{
 "cells": [
  {
   "cell_type": "code",
   "execution_count": 1,
   "metadata": {
    "ExecuteTime": {
     "end_time": "2020-03-01T05:40:49.179699Z",
     "start_time": "2020-03-01T05:40:35.834228Z"
    }
   },
   "outputs": [
    {
     "name": "stderr",
     "output_type": "stream",
     "text": [
      "C:\\Users\\abhij\\AppData\\Roaming\\Python\\Python37\\site-packages\\sklearn\\utils\\deprecation.py:144: FutureWarning: The sklearn.neighbors.base module is  deprecated in version 0.22 and will be removed in version 0.24. The corresponding classes / functions should instead be imported from sklearn.neighbors. Anything that cannot be imported from sklearn.neighbors is now part of the private API.\n",
      "  warnings.warn(message, FutureWarning)\n"
     ]
    }
   ],
   "source": [
    "#Import all the necessary libraries\n",
    "import pandas as pd\n",
    "import numpy as np\n",
    "import os\n",
    "from missingpy import KNNImputer\n",
    "import scipy.stats as stats\n",
    "from math import radians, sin, cos, acos , atan2 , sqrt\n",
    "import seaborn as sns\n",
    "import matplotlib.pyplot as plt\n",
    "from sklearn.preprocessing import MinMaxScaler"
   ]
  },
  {
   "cell_type": "code",
   "execution_count": 2,
   "metadata": {
    "ExecuteTime": {
     "end_time": "2020-03-01T05:40:49.195691Z",
     "start_time": "2020-03-01T05:40:49.184701Z"
    }
   },
   "outputs": [],
   "source": [
    "# !pip install fancyimpute\n",
    "# from fancyimpute import KNN "
   ]
  },
  {
   "cell_type": "markdown",
   "metadata": {},
   "source": [
    "### Importing Data"
   ]
  },
  {
   "cell_type": "code",
   "execution_count": 3,
   "metadata": {
    "ExecuteTime": {
     "end_time": "2020-03-01T05:40:49.305629Z",
     "start_time": "2020-03-01T05:40:49.201689Z"
    }
   },
   "outputs": [
    {
     "data": {
      "text/plain": [
       "'C:\\\\Users\\\\abhij\\\\Downloads\\\\DS\\\\Edwisor\\\\Cab Fare Prediction\\\\Final'"
      ]
     },
     "execution_count": 3,
     "metadata": {},
     "output_type": "execute_result"
    }
   ],
   "source": [
    "# set the working directory\n",
    "os.chdir(r'C:\\Users\\abhij\\Downloads\\DS\\Edwisor\\Cab Fare Prediction\\Final')\n",
    "os.getcwd()"
   ]
  },
  {
   "cell_type": "markdown",
   "metadata": {},
   "source": [
    "The details of data attributes in the dataset are as follows:\n",
    "\n",
    "- **pickup_datetime** - timestamp value indicating when the cab ride started.\n",
    "- **pickup_longitude** - float for longitude coordinate of where the cab ride started.\n",
    "- **pickup_latitude** - float for latitude coordinate of where the cab ride started.\n",
    "- **dropoff_longitude** - float for longitude coordinate of where the cab ride ended.\n",
    "- **dropoff_latitude** - float for latitude coordinate of where the cab ride ended.\n",
    "- **passenger_count** - an integer indicating the number of passengers in the cab ride.\n",
    "\n",
    "\n",
    "predictive modeling machine learning project can be broken down into below workflow:\n",
    "\n",
    "1. Prepare Problem a) Load libraries b) Load dataset\n",
    "1. Summarize Data a) Descriptive statistics b) Data visualizations\n",
    "1. Prepare Data a) Data Cleaning b) Feature Selection c) Data Transforms\n",
    "1. Evaluate Algorithms a) Split-out validation dataset b) Test options and evaluation metric c) Spot Check Algorithms d) Compare Algorithms\n",
    "1. Improve Accuracy a) Algorithm Tuning b) Ensembles\n",
    "1. Finalize Model a) Predictions on validation dataset b) Create standalone model on entire training dataset c) Save model for later use"
   ]
  },
  {
   "cell_type": "code",
   "execution_count": 4,
   "metadata": {
    "ExecuteTime": {
     "end_time": "2020-03-01T05:40:49.497517Z",
     "start_time": "2020-03-01T05:40:49.309626Z"
    }
   },
   "outputs": [],
   "source": [
    "#Read the data\n",
    "train_df = pd.read_csv('train_cab.csv')\n",
    "test_df = pd.read_csv('test.csv')"
   ]
  },
  {
   "cell_type": "code",
   "execution_count": 5,
   "metadata": {
    "ExecuteTime": {
     "end_time": "2020-03-01T05:40:49.529500Z",
     "start_time": "2020-03-01T05:40:49.501519Z"
    }
   },
   "outputs": [
    {
     "data": {
      "text/html": [
       "<div>\n",
       "<style scoped>\n",
       "    .dataframe tbody tr th:only-of-type {\n",
       "        vertical-align: middle;\n",
       "    }\n",
       "\n",
       "    .dataframe tbody tr th {\n",
       "        vertical-align: top;\n",
       "    }\n",
       "\n",
       "    .dataframe thead th {\n",
       "        text-align: right;\n",
       "    }\n",
       "</style>\n",
       "<table border=\"1\" class=\"dataframe\">\n",
       "  <thead>\n",
       "    <tr style=\"text-align: right;\">\n",
       "      <th></th>\n",
       "      <th>fare_amount</th>\n",
       "      <th>pickup_datetime</th>\n",
       "      <th>pickup_longitude</th>\n",
       "      <th>pickup_latitude</th>\n",
       "      <th>dropoff_longitude</th>\n",
       "      <th>dropoff_latitude</th>\n",
       "      <th>passenger_count</th>\n",
       "    </tr>\n",
       "  </thead>\n",
       "  <tbody>\n",
       "    <tr>\n",
       "      <th>0</th>\n",
       "      <td>4.5</td>\n",
       "      <td>2009-06-15 17:26:21 UTC</td>\n",
       "      <td>-73.844311</td>\n",
       "      <td>40.721319</td>\n",
       "      <td>-73.841610</td>\n",
       "      <td>40.712278</td>\n",
       "      <td>1.0</td>\n",
       "    </tr>\n",
       "    <tr>\n",
       "      <th>1</th>\n",
       "      <td>16.9</td>\n",
       "      <td>2010-01-05 16:52:16 UTC</td>\n",
       "      <td>-74.016048</td>\n",
       "      <td>40.711303</td>\n",
       "      <td>-73.979268</td>\n",
       "      <td>40.782004</td>\n",
       "      <td>1.0</td>\n",
       "    </tr>\n",
       "    <tr>\n",
       "      <th>2</th>\n",
       "      <td>5.7</td>\n",
       "      <td>2011-08-18 00:35:00 UTC</td>\n",
       "      <td>-73.982738</td>\n",
       "      <td>40.761270</td>\n",
       "      <td>-73.991242</td>\n",
       "      <td>40.750562</td>\n",
       "      <td>2.0</td>\n",
       "    </tr>\n",
       "    <tr>\n",
       "      <th>3</th>\n",
       "      <td>7.7</td>\n",
       "      <td>2012-04-21 04:30:42 UTC</td>\n",
       "      <td>-73.987130</td>\n",
       "      <td>40.733143</td>\n",
       "      <td>-73.991567</td>\n",
       "      <td>40.758092</td>\n",
       "      <td>1.0</td>\n",
       "    </tr>\n",
       "    <tr>\n",
       "      <th>4</th>\n",
       "      <td>5.3</td>\n",
       "      <td>2010-03-09 07:51:00 UTC</td>\n",
       "      <td>-73.968095</td>\n",
       "      <td>40.768008</td>\n",
       "      <td>-73.956655</td>\n",
       "      <td>40.783762</td>\n",
       "      <td>1.0</td>\n",
       "    </tr>\n",
       "  </tbody>\n",
       "</table>\n",
       "</div>"
      ],
      "text/plain": [
       "  fare_amount          pickup_datetime  pickup_longitude  pickup_latitude  \\\n",
       "0         4.5  2009-06-15 17:26:21 UTC        -73.844311        40.721319   \n",
       "1        16.9  2010-01-05 16:52:16 UTC        -74.016048        40.711303   \n",
       "2         5.7  2011-08-18 00:35:00 UTC        -73.982738        40.761270   \n",
       "3         7.7  2012-04-21 04:30:42 UTC        -73.987130        40.733143   \n",
       "4         5.3  2010-03-09 07:51:00 UTC        -73.968095        40.768008   \n",
       "\n",
       "   dropoff_longitude  dropoff_latitude  passenger_count  \n",
       "0         -73.841610         40.712278              1.0  \n",
       "1         -73.979268         40.782004              1.0  \n",
       "2         -73.991242         40.750562              2.0  \n",
       "3         -73.991567         40.758092              1.0  \n",
       "4         -73.956655         40.783762              1.0  "
      ]
     },
     "execution_count": 5,
     "metadata": {},
     "output_type": "execute_result"
    }
   ],
   "source": [
    "train_df.head()"
   ]
  },
  {
   "cell_type": "code",
   "execution_count": 6,
   "metadata": {
    "ExecuteTime": {
     "end_time": "2020-03-01T05:40:49.672417Z",
     "start_time": "2020-03-01T05:40:49.533498Z"
    }
   },
   "outputs": [
    {
     "data": {
      "text/html": [
       "<div>\n",
       "<style scoped>\n",
       "    .dataframe tbody tr th:only-of-type {\n",
       "        vertical-align: middle;\n",
       "    }\n",
       "\n",
       "    .dataframe tbody tr th {\n",
       "        vertical-align: top;\n",
       "    }\n",
       "\n",
       "    .dataframe thead th {\n",
       "        text-align: right;\n",
       "    }\n",
       "</style>\n",
       "<table border=\"1\" class=\"dataframe\">\n",
       "  <thead>\n",
       "    <tr style=\"text-align: right;\">\n",
       "      <th></th>\n",
       "      <th>pickup_datetime</th>\n",
       "      <th>pickup_longitude</th>\n",
       "      <th>pickup_latitude</th>\n",
       "      <th>dropoff_longitude</th>\n",
       "      <th>dropoff_latitude</th>\n",
       "      <th>passenger_count</th>\n",
       "    </tr>\n",
       "  </thead>\n",
       "  <tbody>\n",
       "    <tr>\n",
       "      <th>0</th>\n",
       "      <td>2015-01-27 13:08:24 UTC</td>\n",
       "      <td>-73.973320</td>\n",
       "      <td>40.763805</td>\n",
       "      <td>-73.981430</td>\n",
       "      <td>40.743835</td>\n",
       "      <td>1</td>\n",
       "    </tr>\n",
       "    <tr>\n",
       "      <th>1</th>\n",
       "      <td>2015-01-27 13:08:24 UTC</td>\n",
       "      <td>-73.986862</td>\n",
       "      <td>40.719383</td>\n",
       "      <td>-73.998886</td>\n",
       "      <td>40.739201</td>\n",
       "      <td>1</td>\n",
       "    </tr>\n",
       "    <tr>\n",
       "      <th>2</th>\n",
       "      <td>2011-10-08 11:53:44 UTC</td>\n",
       "      <td>-73.982524</td>\n",
       "      <td>40.751260</td>\n",
       "      <td>-73.979654</td>\n",
       "      <td>40.746139</td>\n",
       "      <td>1</td>\n",
       "    </tr>\n",
       "    <tr>\n",
       "      <th>3</th>\n",
       "      <td>2012-12-01 21:12:12 UTC</td>\n",
       "      <td>-73.981160</td>\n",
       "      <td>40.767807</td>\n",
       "      <td>-73.990448</td>\n",
       "      <td>40.751635</td>\n",
       "      <td>1</td>\n",
       "    </tr>\n",
       "    <tr>\n",
       "      <th>4</th>\n",
       "      <td>2012-12-01 21:12:12 UTC</td>\n",
       "      <td>-73.966046</td>\n",
       "      <td>40.789775</td>\n",
       "      <td>-73.988565</td>\n",
       "      <td>40.744427</td>\n",
       "      <td>1</td>\n",
       "    </tr>\n",
       "  </tbody>\n",
       "</table>\n",
       "</div>"
      ],
      "text/plain": [
       "           pickup_datetime  pickup_longitude  pickup_latitude  \\\n",
       "0  2015-01-27 13:08:24 UTC        -73.973320        40.763805   \n",
       "1  2015-01-27 13:08:24 UTC        -73.986862        40.719383   \n",
       "2  2011-10-08 11:53:44 UTC        -73.982524        40.751260   \n",
       "3  2012-12-01 21:12:12 UTC        -73.981160        40.767807   \n",
       "4  2012-12-01 21:12:12 UTC        -73.966046        40.789775   \n",
       "\n",
       "   dropoff_longitude  dropoff_latitude  passenger_count  \n",
       "0         -73.981430         40.743835                1  \n",
       "1         -73.998886         40.739201                1  \n",
       "2         -73.979654         40.746139                1  \n",
       "3         -73.990448         40.751635                1  \n",
       "4         -73.988565         40.744427                1  "
      ]
     },
     "execution_count": 6,
     "metadata": {},
     "output_type": "execute_result"
    }
   ],
   "source": [
    "test_df.head()"
   ]
  },
  {
   "cell_type": "markdown",
   "metadata": {},
   "source": [
    "### Data Cleaning"
   ]
  },
  {
   "cell_type": "code",
   "execution_count": 7,
   "metadata": {
    "ExecuteTime": {
     "end_time": "2020-03-01T05:40:49.800347Z",
     "start_time": "2020-03-01T05:40:49.676418Z"
    }
   },
   "outputs": [
    {
     "data": {
      "text/plain": [
       "(16067, 7)"
      ]
     },
     "execution_count": 7,
     "metadata": {},
     "output_type": "execute_result"
    }
   ],
   "source": [
    "#Train data has 16067 rows\n",
    "train_len = train_df.shape[0]\n",
    "train_df.shape"
   ]
  },
  {
   "cell_type": "code",
   "execution_count": 8,
   "metadata": {
    "ExecuteTime": {
     "end_time": "2020-03-01T05:40:49.942267Z",
     "start_time": "2020-03-01T05:40:49.806342Z"
    }
   },
   "outputs": [],
   "source": [
    "#Fare amount has one odd value '430-', which will be replaced by NaN\n",
    "#We will drop any values that have fare value as less than 1\n",
    "train_df.fare_amount = pd.to_numeric(train_df.fare_amount,errors='coerce')\n",
    "train_df.drop(train_df.loc[train_df.fare_amount<1].index,axis=0,inplace=True)"
   ]
  },
  {
   "cell_type": "code",
   "execution_count": 9,
   "metadata": {
    "ExecuteTime": {
     "end_time": "2020-03-01T05:40:57.400996Z",
     "start_time": "2020-03-01T05:40:49.947264Z"
    }
   },
   "outputs": [],
   "source": [
    "#Convert the dtype of timestamp to datetime\n",
    "train_df.pickup_datetime = pd.to_datetime(train_df.pickup_datetime,errors='coerce')\n",
    "test_df.pickup_datetime = pd.to_datetime(test_df.pickup_datetime,errors='coerce')"
   ]
  },
  {
   "cell_type": "markdown",
   "metadata": {},
   "source": [
    "####  Clean the passenger count column"
   ]
  },
  {
   "cell_type": "code",
   "execution_count": 10,
   "metadata": {
    "ExecuteTime": {
     "end_time": "2020-03-01T05:40:57.416988Z",
     "start_time": "2020-03-01T05:40:57.403996Z"
    },
    "scrolled": true
   },
   "outputs": [
    {
     "data": {
      "text/plain": [
       "1.00       11255\n",
       "2.00        2322\n",
       "5.00        1045\n",
       "3.00         676\n",
       "4.00         328\n",
       "6.00         302\n",
       "0.00          57\n",
       "43.00          2\n",
       "53.00          2\n",
       "0.12           1\n",
       "1.30           1\n",
       "531.20         1\n",
       "345.00         1\n",
       "456.00         1\n",
       "87.00          1\n",
       "55.00          1\n",
       "58.00          1\n",
       "236.00         1\n",
       "535.00         1\n",
       "536.00         1\n",
       "537.00         1\n",
       "554.00         1\n",
       "5334.00        1\n",
       "35.00          1\n",
       "5345.00        1\n",
       "557.00         1\n",
       "354.00         1\n",
       "Name: passenger_count, dtype: int64"
      ]
     },
     "execution_count": 10,
     "metadata": {},
     "output_type": "execute_result"
    }
   ],
   "source": [
    "#Look at the unique values of passenger counts and their distributions\n",
    "train_df.passenger_count.value_counts()"
   ]
  },
  {
   "cell_type": "code",
   "execution_count": 11,
   "metadata": {
    "ExecuteTime": {
     "end_time": "2020-03-01T05:40:57.544937Z",
     "start_time": "2020-03-01T05:40:57.420987Z"
    }
   },
   "outputs": [
    {
     "name": "stdout",
     "output_type": "stream",
     "text": [
      "(58, 7)\n",
      "(20, 7)\n"
     ]
    }
   ],
   "source": [
    "print(train_df[train_df.passenger_count<1].shape)\n",
    "print(train_df[train_df.passenger_count>6].shape)"
   ]
  },
  {
   "cell_type": "code",
   "execution_count": 12,
   "metadata": {
    "ExecuteTime": {
     "end_time": "2020-03-01T05:40:57.702823Z",
     "start_time": "2020-03-01T05:40:57.548914Z"
    }
   },
   "outputs": [
    {
     "data": {
      "text/plain": [
       "1.0    11255\n",
       "2.0     2322\n",
       "5.0     1045\n",
       "3.0      676\n",
       "4.0      328\n",
       "6.0      302\n",
       "Name: passenger_count, dtype: int64"
      ]
     },
     "execution_count": 12,
     "metadata": {},
     "output_type": "execute_result"
    }
   ],
   "source": [
    "#Assuming a cab can accomodate at max 6 passengers at any given moment, we will replace all values above 6 as Nan   \n",
    "#Also assuming a cab should have a minimum of 1 customer, any value below 1 will be dropped\n",
    "train_df.drop(train_df[train_df['passenger_count']>6].index, axis=0,inplace=True)\n",
    "train_df.drop(train_df[train_df['passenger_count']<1].index, axis=0,inplace=True)\n",
    "\n",
    "#The raw data still has one odd value of 1.3 which we will replace with nan\n",
    "train_df.loc[train_df.passenger_count==1.3,'passenger_count']= np.nan\n",
    "\n",
    "train_df.passenger_count.value_counts()"
   ]
  },
  {
   "cell_type": "markdown",
   "metadata": {},
   "source": [
    "####  Clean the location columns (pickup/drop lat/long)"
   ]
  },
  {
   "cell_type": "code",
   "execution_count": 13,
   "metadata": {
    "ExecuteTime": {
     "end_time": "2020-03-01T05:40:57.796773Z",
     "start_time": "2020-03-01T05:40:57.706824Z"
    }
   },
   "outputs": [],
   "source": [
    "# Theoretical bounds of latitude and longitudes\n",
    "# Latitude: -85 to +85\n",
    "# Longitude: -180 to +180\n",
    "position_cols = ['pickup_longitude', 'pickup_latitude','dropoff_longitude', 'dropoff_latitude'] \n",
    "# print(train_df[position_cols].describe())\n",
    "\n",
    "#The pickup latitude has the maximum value of 401 which is not possible. The rest of the columns\n",
    "# seem to be in the theoretical bounds\n",
    "train_df.loc[train_df['pickup_latitude']>85,'pickup_latitude']= np.nan\n",
    "# If the lat or long value is 0 replace drop them\n",
    "for col in position_cols:\n",
    "    train_df.drop(train_df.loc[train_df[col]==0].index,axis=0,inplace=True)"
   ]
  },
  {
   "cell_type": "code",
   "execution_count": 14,
   "metadata": {
    "ExecuteTime": {
     "end_time": "2020-03-01T05:40:57.937689Z",
     "start_time": "2020-03-01T05:40:57.803767Z"
    }
   },
   "outputs": [],
   "source": [
    "# Dropping rows that have same pickup lat/long and dropoff lat/lomg\n",
    "drop_index = train_df[(train_df['pickup_latitude']==train_df['dropoff_latitude']) & (train_df['pickup_longitude']==train_df['dropoff_longitude']) ].index\n",
    "train_df = train_df.drop(index=drop_index).reset_index()\n",
    "train_df.drop(['index'],axis=1,inplace=True)"
   ]
  },
  {
   "cell_type": "code",
   "execution_count": 15,
   "metadata": {
    "ExecuteTime": {
     "end_time": "2020-03-01T05:40:58.080608Z",
     "start_time": "2020-03-01T05:40:57.940689Z"
    }
   },
   "outputs": [
    {
     "data": {
      "text/plain": [
       "fare_amount          22\n",
       "pickup_datetime       1\n",
       "pickup_longitude      0\n",
       "pickup_latitude       1\n",
       "dropoff_longitude     0\n",
       "dropoff_latitude      0\n",
       "passenger_count      56\n",
       "dtype: int64"
      ]
     },
     "execution_count": 15,
     "metadata": {},
     "output_type": "execute_result"
    }
   ],
   "source": [
    "#As the total number of rows is ~16,000 , NAN values can be dropped as they are in the range of ~50\n",
    "train_df.isnull().sum()"
   ]
  },
  {
   "cell_type": "code",
   "execution_count": 16,
   "metadata": {
    "ExecuteTime": {
     "end_time": "2020-03-01T05:40:58.221527Z",
     "start_time": "2020-03-01T05:40:58.085606Z"
    }
   },
   "outputs": [],
   "source": [
    "# train_df.dropna(axis=0,inplace=True)\n",
    "# train_df.shape"
   ]
  },
  {
   "cell_type": "markdown",
   "metadata": {},
   "source": [
    "### Missing Value Analysis"
   ]
  },
  {
   "cell_type": "code",
   "execution_count": 17,
   "metadata": {
    "ExecuteTime": {
     "end_time": "2020-03-01T05:40:58.412420Z",
     "start_time": "2020-03-01T05:40:58.225525Z"
    }
   },
   "outputs": [
    {
     "data": {
      "text/html": [
       "<div>\n",
       "<style scoped>\n",
       "    .dataframe tbody tr th:only-of-type {\n",
       "        vertical-align: middle;\n",
       "    }\n",
       "\n",
       "    .dataframe tbody tr th {\n",
       "        vertical-align: top;\n",
       "    }\n",
       "\n",
       "    .dataframe thead th {\n",
       "        text-align: right;\n",
       "    }\n",
       "</style>\n",
       "<table border=\"1\" class=\"dataframe\">\n",
       "  <thead>\n",
       "    <tr style=\"text-align: right;\">\n",
       "      <th></th>\n",
       "      <th>Variables</th>\n",
       "      <th>count</th>\n",
       "      <th>Missing_percentage</th>\n",
       "    </tr>\n",
       "  </thead>\n",
       "  <tbody>\n",
       "    <tr>\n",
       "      <th>0</th>\n",
       "      <td>passenger_count</td>\n",
       "      <td>56</td>\n",
       "      <td>0.361127</td>\n",
       "    </tr>\n",
       "    <tr>\n",
       "      <th>1</th>\n",
       "      <td>fare_amount</td>\n",
       "      <td>22</td>\n",
       "      <td>0.141871</td>\n",
       "    </tr>\n",
       "    <tr>\n",
       "      <th>2</th>\n",
       "      <td>pickup_datetime</td>\n",
       "      <td>1</td>\n",
       "      <td>0.006449</td>\n",
       "    </tr>\n",
       "    <tr>\n",
       "      <th>3</th>\n",
       "      <td>pickup_latitude</td>\n",
       "      <td>1</td>\n",
       "      <td>0.006449</td>\n",
       "    </tr>\n",
       "    <tr>\n",
       "      <th>4</th>\n",
       "      <td>pickup_longitude</td>\n",
       "      <td>0</td>\n",
       "      <td>0.000000</td>\n",
       "    </tr>\n",
       "    <tr>\n",
       "      <th>5</th>\n",
       "      <td>dropoff_longitude</td>\n",
       "      <td>0</td>\n",
       "      <td>0.000000</td>\n",
       "    </tr>\n",
       "    <tr>\n",
       "      <th>6</th>\n",
       "      <td>dropoff_latitude</td>\n",
       "      <td>0</td>\n",
       "      <td>0.000000</td>\n",
       "    </tr>\n",
       "  </tbody>\n",
       "</table>\n",
       "</div>"
      ],
      "text/plain": [
       "           Variables  count  Missing_percentage\n",
       "0    passenger_count     56            0.361127\n",
       "1        fare_amount     22            0.141871\n",
       "2    pickup_datetime      1            0.006449\n",
       "3    pickup_latitude      1            0.006449\n",
       "4   pickup_longitude      0            0.000000\n",
       "5  dropoff_longitude      0            0.000000\n",
       "6   dropoff_latitude      0            0.000000"
      ]
     },
     "execution_count": 17,
     "metadata": {},
     "output_type": "execute_result"
    }
   ],
   "source": [
    "#calculate missing values\n",
    "missing_val = pd.DataFrame(train_df.isnull().sum())\n",
    "missing_val = missing_val.reset_index()\n",
    "missing_val = missing_val.rename(columns = {'index': 'Variables', 0: 'count'})\n",
    "missing_val['Missing_percentage'] = (missing_val['count']/len(train_df)*100)\n",
    "missing_val = missing_val.sort_values('Missing_percentage', ascending = False).reset_index(drop = True)\n",
    "missing_val"
   ]
  },
  {
   "cell_type": "markdown",
   "metadata": {},
   "source": [
    "### Missing Value Imputation"
   ]
  },
  {
   "cell_type": "code",
   "execution_count": 18,
   "metadata": {
    "ExecuteTime": {
     "end_time": "2020-03-01T05:40:58.443401Z",
     "start_time": "2020-03-01T05:40:58.418415Z"
    }
   },
   "outputs": [],
   "source": [
    "train_df1 = train_df.copy()"
   ]
  },
  {
   "cell_type": "markdown",
   "metadata": {},
   "source": [
    "The missing values here are either categorical or they are the target variable. We will impute the categorical data with its mode and we will not impute the target variable.\n",
    "If the data is numerical we will follow the code below:"
   ]
  },
  {
   "cell_type": "code",
   "execution_count": 19,
   "metadata": {
    "ExecuteTime": {
     "end_time": "2020-03-01T05:40:58.538349Z",
     "start_time": "2020-03-01T05:40:58.449398Z"
    }
   },
   "outputs": [],
   "source": [
    "\n",
    "#imputation method \n",
    "#Actual value = -73.996335\n",
    "#Mean = -73.91159739591552\n",
    "#Median = -73.982061\n",
    "#KNN = -73.98713000000001\n",
    "# train_df1 = train_df.copy()\n",
    "# train_df = train_df1.copy()\n",
    "\n",
    "#Create missing value, a small test to identify which method is good for imputation\n",
    "# train_df['pickup_longitude'].loc[10]\n",
    "\n",
    "# train_df['pickup_longitude'].loc[10] = np.nan\n",
    "# train_df['pickup_longitude'].loc[10]\n",
    "\n",
    "#Mean Imputation\n",
    "# train_df['pickup_longitude'] = train_df['pickup_longitude'].fillna(train_df['pickup_longitude'].mean())\n",
    "# train_df[\"pickup_longitude\"].loc[10]\n",
    "\n",
    "#Median Imputation\n",
    "# train_df['pickup_longitude'] = train_df['pickup_longitude'].fillna(train_df['pickup_longitude'].median())\n",
    "# train_df[\"pickup_longitude\"].loc[10]\n",
    "\n",
    "#KNN imputation\n",
    "# X = train_df[train_df.columns]\n",
    "# train_df = pd.DataFrame(KNNImputer(n_neighbors=1).fit_transform(train_df), columns = train_df.columns)\n",
    "# train_df[\"pickup_longitude\"].loc[10]"
   ]
  },
  {
   "cell_type": "code",
   "execution_count": 20,
   "metadata": {
    "ExecuteTime": {
     "end_time": "2020-03-01T05:40:58.634292Z",
     "start_time": "2020-03-01T05:40:58.542345Z"
    }
   },
   "outputs": [],
   "source": [
    "#And for category variables imputation is done with mode\n",
    "train_df['passenger_count'] = train_df['passenger_count'].fillna(int(train_df['passenger_count'].mode()))"
   ]
  },
  {
   "cell_type": "code",
   "execution_count": 21,
   "metadata": {
    "ExecuteTime": {
     "end_time": "2020-03-01T05:40:58.745227Z",
     "start_time": "2020-03-01T05:40:58.638291Z"
    }
   },
   "outputs": [],
   "source": [
    "#Imputing the NAs in target variables may hamper the model, so it is preferred to remove NA rows of the data\n",
    "train_df=train_df.dropna(axis=0)"
   ]
  },
  {
   "cell_type": "markdown",
   "metadata": {},
   "source": [
    "###  Feature Engineering"
   ]
  },
  {
   "cell_type": "code",
   "execution_count": 22,
   "metadata": {
    "ExecuteTime": {
     "end_time": "2020-03-01T05:40:58.824184Z",
     "start_time": "2020-03-01T05:40:58.751226Z"
    }
   },
   "outputs": [],
   "source": [
    "######extracting all the possible data from the timestamp and then dropping the timestamp column #####\n",
    "def time_columns(df):\n",
    "    df['year'] = df.pickup_datetime.dt.year\n",
    "    df['month'] = df.pickup_datetime.dt.month\n",
    "    df['day'] = df.pickup_datetime.dt.day\n",
    "    # 0 is monday and 6 is sunday\n",
    "    df['weekday_day'] = df.pickup_datetime.dt.weekday\n",
    "    df['hour'] = df.pickup_datetime.dt.hour\n",
    "    df['minutes'] = df.pickup_datetime.dt.minute\n",
    "    df.drop(['pickup_datetime'],axis=1,inplace=True)\n",
    "    return df"
   ]
  },
  {
   "cell_type": "code",
   "execution_count": 23,
   "metadata": {
    "ExecuteTime": {
     "end_time": "2020-03-01T05:40:58.919130Z",
     "start_time": "2020-03-01T05:40:58.835179Z"
    }
   },
   "outputs": [
    {
     "data": {
      "text/plain": [
       "Index(['fare_amount', 'pickup_datetime', 'pickup_longitude', 'pickup_latitude',\n",
       "       'dropoff_longitude', 'dropoff_latitude', 'passenger_count'],\n",
       "      dtype='object')"
      ]
     },
     "execution_count": 23,
     "metadata": {},
     "output_type": "execute_result"
    }
   ],
   "source": [
    "train_df.columns"
   ]
  },
  {
   "cell_type": "code",
   "execution_count": 24,
   "metadata": {
    "ExecuteTime": {
     "end_time": "2020-03-01T05:40:59.158991Z",
     "start_time": "2020-03-01T05:40:58.926125Z"
    }
   },
   "outputs": [],
   "source": [
    "train_df = time_columns(train_df)\n",
    "test_df = time_columns(test_df)"
   ]
  },
  {
   "cell_type": "code",
   "execution_count": 25,
   "metadata": {
    "ExecuteTime": {
     "end_time": "2020-03-01T05:40:59.238945Z",
     "start_time": "2020-03-01T05:40:59.162989Z"
    }
   },
   "outputs": [
    {
     "data": {
      "text/html": [
       "<div>\n",
       "<style scoped>\n",
       "    .dataframe tbody tr th:only-of-type {\n",
       "        vertical-align: middle;\n",
       "    }\n",
       "\n",
       "    .dataframe tbody tr th {\n",
       "        vertical-align: top;\n",
       "    }\n",
       "\n",
       "    .dataframe thead th {\n",
       "        text-align: right;\n",
       "    }\n",
       "</style>\n",
       "<table border=\"1\" class=\"dataframe\">\n",
       "  <thead>\n",
       "    <tr style=\"text-align: right;\">\n",
       "      <th></th>\n",
       "      <th>year</th>\n",
       "      <th>month</th>\n",
       "      <th>day</th>\n",
       "      <th>hour</th>\n",
       "      <th>weekday_day</th>\n",
       "      <th>minutes</th>\n",
       "    </tr>\n",
       "  </thead>\n",
       "  <tbody>\n",
       "    <tr>\n",
       "      <th>count</th>\n",
       "      <td>15483.000000</td>\n",
       "      <td>15483.000000</td>\n",
       "      <td>15483.000000</td>\n",
       "      <td>15483.000000</td>\n",
       "      <td>15483.000000</td>\n",
       "      <td>15483.000000</td>\n",
       "    </tr>\n",
       "    <tr>\n",
       "      <th>mean</th>\n",
       "      <td>2011.738746</td>\n",
       "      <td>6.271911</td>\n",
       "      <td>15.669444</td>\n",
       "      <td>13.500807</td>\n",
       "      <td>3.035846</td>\n",
       "      <td>29.678357</td>\n",
       "    </tr>\n",
       "    <tr>\n",
       "      <th>std</th>\n",
       "      <td>1.870159</td>\n",
       "      <td>3.448434</td>\n",
       "      <td>8.684550</td>\n",
       "      <td>6.508323</td>\n",
       "      <td>1.970017</td>\n",
       "      <td>17.299870</td>\n",
       "    </tr>\n",
       "    <tr>\n",
       "      <th>min</th>\n",
       "      <td>2009.000000</td>\n",
       "      <td>1.000000</td>\n",
       "      <td>1.000000</td>\n",
       "      <td>0.000000</td>\n",
       "      <td>0.000000</td>\n",
       "      <td>0.000000</td>\n",
       "    </tr>\n",
       "    <tr>\n",
       "      <th>25%</th>\n",
       "      <td>2010.000000</td>\n",
       "      <td>3.000000</td>\n",
       "      <td>8.000000</td>\n",
       "      <td>9.000000</td>\n",
       "      <td>1.000000</td>\n",
       "      <td>15.000000</td>\n",
       "    </tr>\n",
       "    <tr>\n",
       "      <th>50%</th>\n",
       "      <td>2012.000000</td>\n",
       "      <td>6.000000</td>\n",
       "      <td>16.000000</td>\n",
       "      <td>14.000000</td>\n",
       "      <td>3.000000</td>\n",
       "      <td>30.000000</td>\n",
       "    </tr>\n",
       "    <tr>\n",
       "      <th>75%</th>\n",
       "      <td>2013.000000</td>\n",
       "      <td>9.000000</td>\n",
       "      <td>23.000000</td>\n",
       "      <td>19.000000</td>\n",
       "      <td>5.000000</td>\n",
       "      <td>45.000000</td>\n",
       "    </tr>\n",
       "    <tr>\n",
       "      <th>max</th>\n",
       "      <td>2015.000000</td>\n",
       "      <td>12.000000</td>\n",
       "      <td>31.000000</td>\n",
       "      <td>23.000000</td>\n",
       "      <td>6.000000</td>\n",
       "      <td>59.000000</td>\n",
       "    </tr>\n",
       "  </tbody>\n",
       "</table>\n",
       "</div>"
      ],
      "text/plain": [
       "               year         month           day          hour   weekday_day  \\\n",
       "count  15483.000000  15483.000000  15483.000000  15483.000000  15483.000000   \n",
       "mean    2011.738746      6.271911     15.669444     13.500807      3.035846   \n",
       "std        1.870159      3.448434      8.684550      6.508323      1.970017   \n",
       "min     2009.000000      1.000000      1.000000      0.000000      0.000000   \n",
       "25%     2010.000000      3.000000      8.000000      9.000000      1.000000   \n",
       "50%     2012.000000      6.000000     16.000000     14.000000      3.000000   \n",
       "75%     2013.000000      9.000000     23.000000     19.000000      5.000000   \n",
       "max     2015.000000     12.000000     31.000000     23.000000      6.000000   \n",
       "\n",
       "            minutes  \n",
       "count  15483.000000  \n",
       "mean      29.678357  \n",
       "std       17.299870  \n",
       "min        0.000000  \n",
       "25%       15.000000  \n",
       "50%       30.000000  \n",
       "75%       45.000000  \n",
       "max       59.000000  "
      ]
     },
     "execution_count": 25,
     "metadata": {},
     "output_type": "execute_result"
    }
   ],
   "source": [
    "train_df[['year','month', 'day', 'hour', 'weekday_day', 'minutes']].describe()"
   ]
  },
  {
   "cell_type": "code",
   "execution_count": 26,
   "metadata": {
    "ExecuteTime": {
     "end_time": "2020-03-01T05:41:01.861445Z",
     "start_time": "2020-03-01T05:40:59.242944Z"
    }
   },
   "outputs": [],
   "source": [
    "\n",
    "############Calculate the distance between two pairs of long and lat########################\n",
    "def distance(row):\n",
    "    slat = row['pickup_latitude']\n",
    "    slon = row['pickup_longitude']\n",
    "    elat = row['dropoff_latitude']\n",
    "    elon = row['dropoff_longitude']\n",
    "    radius = 6371 # km\n",
    "    dlat = radians(elat - slat)\n",
    "    dlon = radians(elon - slon)\n",
    "    a = sin(dlat/2)*sin(dlat/2) +  ( cos(radians(slat))*cos(radians(elat))*sin(dlon/2)*sin(dlon/2))\n",
    "    c = 2*atan2(sqrt(a),sqrt(1-a))\n",
    "    d = radius*c\n",
    "    return d\n",
    "\n",
    "###########We find the distance in km#######################\n",
    "train_df['distance'] = train_df.apply(distance,axis=1)\n",
    "test_df['distance'] = test_df.apply(distance,axis=1)"
   ]
  },
  {
   "cell_type": "markdown",
   "metadata": {},
   "source": [
    "### Outlier Analysis"
   ]
  },
  {
   "cell_type": "code",
   "execution_count": 27,
   "metadata": {
    "ExecuteTime": {
     "end_time": "2020-03-01T05:41:05.428409Z",
     "start_time": "2020-03-01T05:41:01.867443Z"
    },
    "scrolled": true
   },
   "outputs": [
    {
     "data": {
      "image/png": "[encoded data removed]",
      "text/plain": [
       "<Figure size 432x288 with 1 Axes>"
      ]
     },
     "metadata": {
      "needs_background": "light"
     },
     "output_type": "display_data"
    },
    {
     "data": {
      "image/png": "[encoded data removed]",
      "text/plain": [
       "<Figure size 432x288 with 1 Axes>"
      ]
     },
     "metadata": {
      "needs_background": "light"
     },
     "output_type": "display_data"
    },
    {
     "data": {
      "image/png": "[encoded data removed]",
      "text/plain": [
       "<Figure size 432x288 with 1 Axes>"
      ]
     },
     "metadata": {
      "needs_background": "light"
     },
     "output_type": "display_data"
    },
    {
     "data": {
      "image/png": "[encoded data removed]",
      "text/plain": [
       "<Figure size 432x288 with 1 Axes>"
      ]
     },
     "metadata": {
      "needs_background": "light"
     },
     "output_type": "display_data"
    },
    {
     "data": {
      "image/png": "[encoded data removed]",
      "text/plain": [
       "<Figure size 432x288 with 1 Axes>"
      ]
     },
     "metadata": {
      "needs_background": "light"
     },
     "output_type": "display_data"
    },
    {
     "data": {
      "image/png": "[encoded data removed]",
      "text/plain": [
       "<Figure size 432x288 with 1 Axes>"
      ]
     },
     "metadata": {
      "needs_background": "light"
     },
     "output_type": "display_data"
    },
    {
     "data": {
      "image/png": "[encoded data removed]",
      "text/plain": [
       "<Figure size 432x288 with 1 Axes>"
      ]
     },
     "metadata": {
      "needs_background": "light"
     },
     "output_type": "display_data"
    },
    {
     "data": {
      "image/png": "[encoded data removed]",
      "text/plain": [
       "<Figure size 432x288 with 1 Axes>"
      ]
     },
     "metadata": {
      "needs_background": "light"
     },
     "output_type": "display_data"
    },
    {
     "data": {
      "image/png": "[encoded data removed]",
      "text/plain": [
       "<Figure size 432x288 with 1 Axes>"
      ]
     },
     "metadata": {
      "needs_background": "light"
     },
     "output_type": "display_data"
    },
    {
     "data": {
      "image/png": "[encoded data removed]",
      "text/plain": [
       "<Figure size 432x288 with 1 Axes>"
      ]
     },
     "metadata": {
      "needs_background": "light"
     },
     "output_type": "display_data"
    },
    {
     "data": {
      "image/png": "[encoded data removed]",
      "text/plain": [
       "<Figure size 432x288 with 1 Axes>"
      ]
     },
     "metadata": {
      "needs_background": "light"
     },
     "output_type": "display_data"
    },
    {
     "data": {
      "image/png": "[encoded data removed]",
      "text/plain": [
       "<Figure size 432x288 with 1 Axes>"
      ]
     },
     "metadata": {
      "needs_background": "light"
     },
     "output_type": "display_data"
    },
    {
     "data": {
      "image/png": "[encoded data removed]",
      "text/plain": [
       "<Figure size 432x288 with 1 Axes>"
      ]
     },
     "metadata": {
      "needs_background": "light"
     },
     "output_type": "display_data"
    }
   ],
   "source": [
    "for col in train_df.columns:\n",
    "    sns.boxplot(train_df[col])\n",
    "    plt.title(col)\n",
    "    plt.show()"
   ]
  },
  {
   "cell_type": "code",
   "execution_count": 28,
   "metadata": {
    "ExecuteTime": {
     "end_time": "2020-03-01T05:41:05.460387Z",
     "start_time": "2020-03-01T05:41:05.435403Z"
    }
   },
   "outputs": [
    {
     "name": "stdout",
     "output_type": "stream",
     "text": [
      "17\n"
     ]
    }
   ],
   "source": [
    "#Removing values about 30 km as outlier\n",
    "print(train_df.loc[train_df.distance>=30].shape[0])\n",
    "train_df.drop(index = train_df[train_df.distance>=30].index,axis=0,inplace=True)"
   ]
  },
  {
   "cell_type": "code",
   "execution_count": 29,
   "metadata": {
    "ExecuteTime": {
     "end_time": "2020-03-01T05:41:05.555332Z",
     "start_time": "2020-03-01T05:41:05.469382Z"
    }
   },
   "outputs": [
    {
     "name": "stdout",
     "output_type": "stream",
     "text": [
      "6\n"
     ]
    }
   ],
   "source": [
    "#removing the vlues where fare amount is more than 100$\n",
    "print(train_df.loc[train_df.fare_amount>100].shape[0])\n",
    "train_df.drop(index = train_df[train_df.fare_amount>=100].index,axis=0,inplace=True)"
   ]
  },
  {
   "cell_type": "code",
   "execution_count": 30,
   "metadata": {
    "ExecuteTime": {
     "end_time": "2020-03-01T05:41:05.618296Z",
     "start_time": "2020-03-01T05:41:05.559331Z"
    }
   },
   "outputs": [],
   "source": [
    "outlier_cols = ['distance','fare_amount']"
   ]
  },
  {
   "cell_type": "code",
   "execution_count": 31,
   "metadata": {
    "ExecuteTime": {
     "end_time": "2020-03-01T05:41:05.729253Z",
     "start_time": "2020-03-01T05:41:05.621294Z"
    }
   },
   "outputs": [],
   "source": [
    "out_stats = {}\n",
    "for col in outlier_cols:\n",
    "    #Detect and replace with NA\n",
    "    #Extract quartiles\n",
    "    q75, q25 = np.percentile(train_df[col], [75 ,25])\n",
    "\n",
    "    #Calculate IQR\n",
    "    iqr = q75 - q25\n",
    "    # #Calculate inner and outer fence\n",
    "    minimum = q25 - (iqr*1.5)\n",
    "    maximum = q75 + (iqr*1.5)\n",
    "    \n",
    "    low_nums = train_df.loc[train_df[col]<minimum,col].shape[0]\n",
    "    high_nums = train_df.loc[train_df[col]>maximum,col].shape[0]\n",
    "    out_stats.update({col:[low_nums,high_nums]})\n",
    "    # #Replace with NA\n",
    "    train_df.loc[train_df[col] < minimum,col] = np.nan\n",
    "    train_df.loc[train_df[col] > maximum,col] = np.nan\n",
    "\n",
    "    # #Calculate missing value\n",
    "#     missing_val = pd.DataFrame(train_df.isnull().sum())\n",
    "    "
   ]
  },
  {
   "cell_type": "code",
   "execution_count": 32,
   "metadata": {
    "ExecuteTime": {
     "end_time": "2020-03-01T05:41:09.399134Z",
     "start_time": "2020-03-01T05:41:05.734231Z"
    }
   },
   "outputs": [
    {
     "name": "stderr",
     "output_type": "stream",
     "text": [
      "C:\\ProgramData\\Anaconda3\\lib\\site-packages\\missingpy\\pairwise_external.py:135: FutureWarning: 'warn_on_dtype' is deprecated in version 0.21 and will be removed in 0.23. Don't set `warn_on_dtype` to remove this warning.\n",
      "  warn_on_dtype=warn_on_dtype, estimator=estimator)\n",
      "C:\\ProgramData\\Anaconda3\\lib\\site-packages\\missingpy\\pairwise_external.py:138: FutureWarning: 'warn_on_dtype' is deprecated in version 0.21 and will be removed in 0.23. Don't set `warn_on_dtype` to remove this warning.\n",
      "  warn_on_dtype=warn_on_dtype, estimator=estimator)\n"
     ]
    }
   ],
   "source": [
    "#KNN imputation\n",
    "#Replace the outlier values with KNN imputation\n",
    "train_df = pd.DataFrame(KNNImputer(n_neighbors=3).fit_transform(train_df), columns = train_df.columns)"
   ]
  },
  {
   "cell_type": "code",
   "execution_count": 33,
   "metadata": {
    "ExecuteTime": {
     "end_time": "2020-03-01T05:41:09.415124Z",
     "start_time": "2020-03-01T05:41:09.403132Z"
    }
   },
   "outputs": [
    {
     "data": {
      "text/plain": [
       "{'distance': [0, 1325], 'fare_amount': [0, 1336]}"
      ]
     },
     "execution_count": 33,
     "metadata": {},
     "output_type": "execute_result"
    }
   ],
   "source": [
    "out_stats"
   ]
  },
  {
   "cell_type": "markdown",
   "metadata": {},
   "source": [
    "###  Visualizations"
   ]
  },
  {
   "cell_type": "code",
   "execution_count": 34,
   "metadata": {
    "ExecuteTime": {
     "end_time": "2020-03-01T05:41:09.558045Z",
     "start_time": "2020-03-01T05:41:09.425119Z"
    }
   },
   "outputs": [],
   "source": [
    "# setting up the sns for plots\n",
    "sns.set(style='darkgrid',palette='muted')"
   ]
  },
  {
   "cell_type": "code",
   "execution_count": 35,
   "metadata": {
    "ExecuteTime": {
     "end_time": "2020-03-01T05:41:09.653991Z",
     "start_time": "2020-03-01T05:41:09.565048Z"
    }
   },
   "outputs": [],
   "source": [
    "cat_cols = ['passenger_count','year','month','weekday_day', 'hour','day',  'minutes']\n",
    "num_cols = ['fare_amount', 'pickup_longitude', 'pickup_latitude',\n",
    "       'dropoff_longitude', 'dropoff_latitude', 'distance']"
   ]
  },
  {
   "cell_type": "code",
   "execution_count": 36,
   "metadata": {
    "ExecuteTime": {
     "end_time": "2020-03-01T05:41:17.921258Z",
     "start_time": "2020-03-01T05:41:09.657987Z"
    },
    "scrolled": false
   },
   "outputs": [
    {
     "data": {
      "image/png": "[encoded data removed]",
      "text/plain": [
       "<Figure size 1080x1080 with 6 Axes>"
      ]
     },
     "metadata": {},
     "output_type": "display_data"
    },
    {
     "data": {
      "image/png": "[encoded data removed]",
      "text/plain": [
       "<Figure size 1080x1080 with 7 Axes>"
      ]
     },
     "metadata": {},
     "output_type": "display_data"
    }
   ],
   "source": [
    "# Plot the distribution plots\n",
    "fig = plt.figure (figsize=(15,15))\n",
    "for i in range(len(num_cols)):\n",
    "    plt.subplot(3,2,i+1)\n",
    "    _ = sns.distplot(train_df[num_cols[i]])\n",
    "fig.suptitle('Distribution plot of numerical columns')\n",
    "plt.show()\n",
    "\n",
    "fig = plt.figure(figsize=(15,15))\n",
    "for i in range(len(cat_cols)):\n",
    "    plt.subplot(3,3,i+1)\n",
    "    _ = sns.distplot(train_df[cat_cols[i]])\n",
    "fig.suptitle('Distribution plot of categorical columns')\n",
    "plt.show()\n",
    "    "
   ]
  },
  {
   "cell_type": "code",
   "execution_count": 37,
   "metadata": {
    "ExecuteTime": {
     "end_time": "2020-03-01T05:41:20.424847Z",
     "start_time": "2020-03-01T05:41:17.935250Z"
    },
    "scrolled": true
   },
   "outputs": [
    {
     "data": {
      "text/plain": [
       "Text(0.5, 1.0, 'Cab Fare w.r.t passenger_count')"
      ]
     },
     "execution_count": 37,
     "metadata": {},
     "output_type": "execute_result"
    },
    {
     "data": {
      "image/png": "[encoded data removed]",
      "text/plain": [
       "<Figure size 720x720 with 1 Axes>"
      ]
     },
     "metadata": {},
     "output_type": "display_data"
    }
   ],
   "source": [
    "#Plot swarmplot\n",
    "plt.figure(figsize=(10,10))\n",
    "_ = sns.swarmplot(x='passenger_count',y='fare_amount',data=train_df.sample(frac=0.1))\n",
    "plt.title('Cab Fare w.r.t passenger_count')"
   ]
  },
  {
   "cell_type": "code",
   "execution_count": 38,
   "metadata": {
    "ExecuteTime": {
     "end_time": "2020-03-01T05:41:42.513193Z",
     "start_time": "2020-03-01T05:41:20.428825Z"
    },
    "scrolled": false
   },
   "outputs": [
    {
     "name": "stderr",
     "output_type": "stream",
     "text": [
      "C:\\ProgramData\\Anaconda3\\lib\\site-packages\\seaborn\\axisgrid.py:1847: UserWarning: JointGrid annotation is deprecated and will be removed in a future release.\n",
      "  warnings.warn(UserWarning(msg))\n"
     ]
    },
    {
     "data": {
      "text/plain": [
       "<Figure size 1440x1440 with 0 Axes>"
      ]
     },
     "metadata": {},
     "output_type": "display_data"
    },
    {
     "data": {
      "image/png": "[encoded data removed]",
      "text/plain": [
       "<Figure size 432x432 with 3 Axes>"
      ]
     },
     "metadata": {},
     "output_type": "display_data"
    },
    {
     "data": {
      "image/png": "[encoded data removed]",
      "text/plain": [
       "<Figure size 432x432 with 3 Axes>"
      ]
     },
     "metadata": {},
     "output_type": "display_data"
    },
    {
     "data": {
      "image/png": "[encoded data removed]",
      "text/plain": [
       "<Figure size 432x432 with 3 Axes>"
      ]
     },
     "metadata": {},
     "output_type": "display_data"
    },
    {
     "data": {
      "image/png": "[encoded data removed]",
      "text/plain": [
       "<Figure size 432x432 with 3 Axes>"
      ]
     },
     "metadata": {},
     "output_type": "display_data"
    },
    {
     "data": {
      "image/png": "[encoded data removed]",
      "text/plain": [
       "<Figure size 432x432 with 3 Axes>"
      ]
     },
     "metadata": {},
     "output_type": "display_data"
    }
   ],
   "source": [
    "plt.figure(figsize= (20,20))\n",
    "for i in range(1,len(num_cols)):\n",
    "    _ = sns.jointplot(x='fare_amount',y=num_cols[i],data=train_df,kind = 'reg')\n",
    "    _.annotate(stats.pearsonr)\n",
    "    plt.show()"
   ]
  },
  {
   "cell_type": "markdown",
   "metadata": {},
   "source": [
    "### Feature Selection"
   ]
  },
  {
   "cell_type": "markdown",
   "metadata": {},
   "source": [
    "#### Categorical Columns"
   ]
  },
  {
   "cell_type": "code",
   "execution_count": 39,
   "metadata": {
    "ExecuteTime": {
     "end_time": "2020-03-01T05:41:42.781037Z",
     "start_time": "2020-03-01T05:41:42.518189Z"
    }
   },
   "outputs": [
    {
     "name": "stderr",
     "output_type": "stream",
     "text": [
      "C:\\ProgramData\\Anaconda3\\lib\\site-packages\\IPython\\core\\interactiveshell.py:3325: FutureWarning: specifying 'categories' or 'ordered' in .astype() is deprecated; pass a CategoricalDtype instead\n",
      "  exec(code_obj, self.user_global_ns, self.user_ns)\n"
     ]
    }
   ],
   "source": [
    "# Convert the necessary categorical columns from numerical to categorical\n",
    "for col in cat_cols:\n",
    "    train_df[col] = train_df[col].astype('int')\n",
    "    if col == 'passenger_count':\n",
    "        train_df[col] = train_df[col].astype('object').astype('category',ordered=True)\n",
    "    else:\n",
    "        train_df[col] = train_df[col].astype('object').astype('category')\n",
    "for col in cat_cols:\n",
    "    test_df[col] = test_df[col].astype('int')\n",
    "    if col == 'passenger_count':\n",
    "        test_df[col] = test_df[col].astype('object').astype('category',ordered=True)\n",
    "    else:\n",
    "        test_df[col] = test_df[col].astype('object').astype('category')"
   ]
  },
  {
   "cell_type": "code",
   "execution_count": 40,
   "metadata": {
    "ExecuteTime": {
     "end_time": "2020-03-01T05:41:42.829009Z",
     "start_time": "2020-03-01T05:41:42.785040Z"
    }
   },
   "outputs": [],
   "source": [
    "# XGBoost does not take categorical columns for them we have converted them back to numerical\n",
    "for col in cat_cols:\n",
    "    test_df[col] = test_df[col].astype('int')\n",
    "    if col == 'passenger_count':\n",
    "        test_df[col] = test_df[col].astype('object').astype('category',ordered=True)\n",
    "    else:\n",
    "        test_df[col] = test_df[col].astype('object').astype('category')"
   ]
  },
  {
   "cell_type": "markdown",
   "metadata": {},
   "source": [
    "#### Feature Engineering - 2 "
   ]
  },
  {
   "cell_type": "code",
   "execution_count": 41,
   "metadata": {
    "ExecuteTime": {
     "end_time": "2020-03-01T05:41:42.891973Z",
     "start_time": "2020-03-01T05:41:42.834006Z"
    }
   },
   "outputs": [],
   "source": [
    "#Functions to create new features\n",
    "def time_of_day(row):\n",
    "    ''' for sessions in a day using hour column '''\n",
    "    if (row >=5) and (row <= 11):\n",
    "        return 'morning'\n",
    "    elif (row >=12) and (row <=16 ):\n",
    "        return 'afternoon'\n",
    "    elif (row >= 17) and (row <= 20):\n",
    "        return'evening'\n",
    "    elif (row >=21) and (row <= 23) :\n",
    "        return 'night_PM'\n",
    "    elif (row >=0) and (row <=4):\n",
    "        return'night_AM'\n",
    "    \n",
    "def season(row):\n",
    "    ''' for seasons in a year using month column'''\n",
    "    if (row >=3) and (row <= 5):\n",
    "        return 'spring'\n",
    "    elif (row >=6) and (row <=8 ):\n",
    "        return 'summer'\n",
    "    elif (row >= 9) and (row <= 11):\n",
    "        return'fall'\n",
    "    elif (row >=12)|(row <= 2) :\n",
    "        return 'winter'\n",
    "    \n",
    "def weekend(row):\n",
    "    ''' for week:weekday/weekend in a day_of_week column '''\n",
    "    if (row >=0) and (row <= 4):\n",
    "        return 0\n",
    "    elif (row >=5) and (row <=6 ):\n",
    "        return 1    "
   ]
  },
  {
   "cell_type": "code",
   "execution_count": 42,
   "metadata": {
    "ExecuteTime": {
     "end_time": "2020-03-01T05:41:43.015903Z",
     "start_time": "2020-03-01T05:41:42.897972Z"
    }
   },
   "outputs": [],
   "source": [
    "#Create new features for both train and test dataset\n",
    "train_df['time_of_day'] = train_df['hour'].apply(time_of_day)\n",
    "train_df['season'] = train_df['month'].apply(season)\n",
    "train_df['weekend'] = train_df['weekday_day'].apply(weekend)\n",
    "\n",
    "test_df['time_of_day'] = test_df['hour'].apply(time_of_day)\n",
    "test_df['season'] = test_df['month'].apply(season)\n",
    "test_df['weekend'] = test_df['weekday_day'].apply(weekend)"
   ]
  },
  {
   "cell_type": "code",
   "execution_count": 43,
   "metadata": {
    "ExecuteTime": {
     "end_time": "2020-03-01T05:41:43.126842Z",
     "start_time": "2020-03-01T05:41:43.018904Z"
    }
   },
   "outputs": [],
   "source": [
    "#One hot encoding on the categorical data\n",
    "dummy_cols = ['passenger_count', 'year','time_of_day', 'season']\n",
    "for col in dummy_cols:\n",
    "    temp = pd.get_dummies(train_df[col],prefix = col)\n",
    "    train_df = train_df.join(temp)\n",
    "    temp = pd.get_dummies(test_df[col],prefix = col)\n",
    "    test_df = test_df.join(temp)\n",
    "del temp"
   ]
  },
  {
   "cell_type": "code",
   "execution_count": 44,
   "metadata": {
    "ExecuteTime": {
     "end_time": "2020-03-01T05:41:43.190803Z",
     "start_time": "2020-03-01T05:41:43.131838Z"
    }
   },
   "outputs": [],
   "source": [
    "# Drop the unneccessary columns\n",
    "drop_cols = ['pickup_longitude', 'pickup_latitude',\n",
    "       'dropoff_longitude', 'dropoff_latitude', 'passenger_count', 'year',\n",
    "       'month',  'weekday_day', 'hour', 'minutes', \n",
    "       'time_of_day', 'season', 'weekend']\n",
    "train_df.drop(drop_cols,axis=1,inplace=True)\n",
    "test_df.drop(drop_cols,axis=1,inplace=True)"
   ]
  },
  {
   "cell_type": "code",
   "execution_count": 45,
   "metadata": {
    "ExecuteTime": {
     "end_time": "2020-03-01T05:41:43.268758Z",
     "start_time": "2020-03-01T05:41:43.193801Z"
    }
   },
   "outputs": [],
   "source": [
    "num_cols = ['fare_amount','distance']\n",
    "cat_cols =list( set(train_df.columns) - set(num_cols))"
   ]
  },
  {
   "cell_type": "code",
   "execution_count": 46,
   "metadata": {
    "ExecuteTime": {
     "end_time": "2020-03-01T05:41:43.395685Z",
     "start_time": "2020-03-01T05:41:43.271760Z"
    }
   },
   "outputs": [
    {
     "data": {
      "text/html": [
       "<div>\n",
       "<style scoped>\n",
       "    .dataframe tbody tr th:only-of-type {\n",
       "        vertical-align: middle;\n",
       "    }\n",
       "\n",
       "    .dataframe tbody tr th {\n",
       "        vertical-align: top;\n",
       "    }\n",
       "\n",
       "    .dataframe thead th {\n",
       "        text-align: right;\n",
       "    }\n",
       "</style>\n",
       "<table border=\"1\" class=\"dataframe\">\n",
       "  <thead>\n",
       "    <tr style=\"text-align: right;\">\n",
       "      <th></th>\n",
       "      <th>fare_amount</th>\n",
       "      <th>distance</th>\n",
       "    </tr>\n",
       "  </thead>\n",
       "  <tbody>\n",
       "    <tr>\n",
       "      <th>fare_amount</th>\n",
       "      <td>1.000000</td>\n",
       "      <td>0.822366</td>\n",
       "    </tr>\n",
       "    <tr>\n",
       "      <th>distance</th>\n",
       "      <td>0.822366</td>\n",
       "      <td>1.000000</td>\n",
       "    </tr>\n",
       "  </tbody>\n",
       "</table>\n",
       "</div>"
      ],
      "text/plain": [
       "             fare_amount  distance\n",
       "fare_amount     1.000000  0.822366\n",
       "distance        0.822366  1.000000"
      ]
     },
     "execution_count": 46,
     "metadata": {},
     "output_type": "execute_result"
    }
   ],
   "source": [
    "train_df[num_cols].corr()\n",
    "# Distance and Fare amount have a high correlation as expected"
   ]
  },
  {
   "cell_type": "code",
   "execution_count": 47,
   "metadata": {
    "ExecuteTime": {
     "end_time": "2020-03-01T05:41:43.822442Z",
     "start_time": "2020-03-01T05:41:43.400685Z"
    }
   },
   "outputs": [
    {
     "data": {
      "text/plain": [
       "<matplotlib.axes._subplots.AxesSubplot at 0x23345230978>"
      ]
     },
     "execution_count": 47,
     "metadata": {},
     "output_type": "execute_result"
    },
    {
     "data": {
      "image/png": "[encoded data removed]",
      "text/plain": [
       "<Figure size 432x288 with 2 Axes>"
      ]
     },
     "metadata": {},
     "output_type": "display_data"
    }
   ],
   "source": [
    "sns.heatmap(train_df[num_cols].corr(),annot=True)"
   ]
  },
  {
   "cell_type": "code",
   "execution_count": 48,
   "metadata": {
    "ExecuteTime": {
     "end_time": "2020-03-01T05:41:43.996343Z",
     "start_time": "2020-03-01T05:41:43.825441Z"
    }
   },
   "outputs": [
    {
     "data": {
      "text/html": [
       "<div>\n",
       "<style scoped>\n",
       "    .dataframe tbody tr th:only-of-type {\n",
       "        vertical-align: middle;\n",
       "    }\n",
       "\n",
       "    .dataframe tbody tr th {\n",
       "        vertical-align: top;\n",
       "    }\n",
       "\n",
       "    .dataframe thead th {\n",
       "        text-align: right;\n",
       "    }\n",
       "</style>\n",
       "<table border=\"1\" class=\"dataframe\">\n",
       "  <thead>\n",
       "    <tr style=\"text-align: right;\">\n",
       "      <th></th>\n",
       "      <th>count</th>\n",
       "      <th>mean</th>\n",
       "      <th>std</th>\n",
       "      <th>min</th>\n",
       "      <th>25%</th>\n",
       "      <th>50%</th>\n",
       "      <th>75%</th>\n",
       "      <th>max</th>\n",
       "    </tr>\n",
       "  </thead>\n",
       "  <tbody>\n",
       "    <tr>\n",
       "      <th>fare_amount</th>\n",
       "      <td>15460.0</td>\n",
       "      <td>9.006415</td>\n",
       "      <td>4.063789</td>\n",
       "      <td>1.140000</td>\n",
       "      <td>6.000000</td>\n",
       "      <td>8.100000</td>\n",
       "      <td>11.000000</td>\n",
       "      <td>22.100000</td>\n",
       "    </tr>\n",
       "    <tr>\n",
       "      <th>distance</th>\n",
       "      <td>15460.0</td>\n",
       "      <td>2.506335</td>\n",
       "      <td>1.651912</td>\n",
       "      <td>0.000111</td>\n",
       "      <td>1.260496</td>\n",
       "      <td>2.064891</td>\n",
       "      <td>3.347295</td>\n",
       "      <td>7.902598</td>\n",
       "    </tr>\n",
       "    <tr>\n",
       "      <th>passenger_count_1</th>\n",
       "      <td>15460.0</td>\n",
       "      <td>0.706468</td>\n",
       "      <td>0.455395</td>\n",
       "      <td>0.000000</td>\n",
       "      <td>0.000000</td>\n",
       "      <td>1.000000</td>\n",
       "      <td>1.000000</td>\n",
       "      <td>1.000000</td>\n",
       "    </tr>\n",
       "    <tr>\n",
       "      <th>passenger_count_2</th>\n",
       "      <td>15460.0</td>\n",
       "      <td>0.145925</td>\n",
       "      <td>0.353042</td>\n",
       "      <td>0.000000</td>\n",
       "      <td>0.000000</td>\n",
       "      <td>0.000000</td>\n",
       "      <td>0.000000</td>\n",
       "      <td>1.000000</td>\n",
       "    </tr>\n",
       "    <tr>\n",
       "      <th>passenger_count_3</th>\n",
       "      <td>15460.0</td>\n",
       "      <td>0.042367</td>\n",
       "      <td>0.201432</td>\n",
       "      <td>0.000000</td>\n",
       "      <td>0.000000</td>\n",
       "      <td>0.000000</td>\n",
       "      <td>0.000000</td>\n",
       "      <td>1.000000</td>\n",
       "    </tr>\n",
       "    <tr>\n",
       "      <th>passenger_count_4</th>\n",
       "      <td>15460.0</td>\n",
       "      <td>0.020505</td>\n",
       "      <td>0.141723</td>\n",
       "      <td>0.000000</td>\n",
       "      <td>0.000000</td>\n",
       "      <td>0.000000</td>\n",
       "      <td>0.000000</td>\n",
       "      <td>1.000000</td>\n",
       "    </tr>\n",
       "    <tr>\n",
       "      <th>passenger_count_5</th>\n",
       "      <td>15460.0</td>\n",
       "      <td>0.065718</td>\n",
       "      <td>0.247796</td>\n",
       "      <td>0.000000</td>\n",
       "      <td>0.000000</td>\n",
       "      <td>0.000000</td>\n",
       "      <td>0.000000</td>\n",
       "      <td>1.000000</td>\n",
       "    </tr>\n",
       "    <tr>\n",
       "      <th>passenger_count_6</th>\n",
       "      <td>15460.0</td>\n",
       "      <td>0.019017</td>\n",
       "      <td>0.136588</td>\n",
       "      <td>0.000000</td>\n",
       "      <td>0.000000</td>\n",
       "      <td>0.000000</td>\n",
       "      <td>0.000000</td>\n",
       "      <td>1.000000</td>\n",
       "    </tr>\n",
       "    <tr>\n",
       "      <th>year_2009</th>\n",
       "      <td>15460.0</td>\n",
       "      <td>0.155045</td>\n",
       "      <td>0.361960</td>\n",
       "      <td>0.000000</td>\n",
       "      <td>0.000000</td>\n",
       "      <td>0.000000</td>\n",
       "      <td>0.000000</td>\n",
       "      <td>1.000000</td>\n",
       "    </tr>\n",
       "    <tr>\n",
       "      <th>year_2010</th>\n",
       "      <td>15460.0</td>\n",
       "      <td>0.154592</td>\n",
       "      <td>0.361527</td>\n",
       "      <td>0.000000</td>\n",
       "      <td>0.000000</td>\n",
       "      <td>0.000000</td>\n",
       "      <td>0.000000</td>\n",
       "      <td>1.000000</td>\n",
       "    </tr>\n",
       "    <tr>\n",
       "      <th>year_2011</th>\n",
       "      <td>15460.0</td>\n",
       "      <td>0.153622</td>\n",
       "      <td>0.360598</td>\n",
       "      <td>0.000000</td>\n",
       "      <td>0.000000</td>\n",
       "      <td>0.000000</td>\n",
       "      <td>0.000000</td>\n",
       "      <td>1.000000</td>\n",
       "    </tr>\n",
       "    <tr>\n",
       "      <th>year_2012</th>\n",
       "      <td>15460.0</td>\n",
       "      <td>0.159444</td>\n",
       "      <td>0.366101</td>\n",
       "      <td>0.000000</td>\n",
       "      <td>0.000000</td>\n",
       "      <td>0.000000</td>\n",
       "      <td>0.000000</td>\n",
       "      <td>1.000000</td>\n",
       "    </tr>\n",
       "    <tr>\n",
       "      <th>year_2013</th>\n",
       "      <td>15460.0</td>\n",
       "      <td>0.158797</td>\n",
       "      <td>0.365498</td>\n",
       "      <td>0.000000</td>\n",
       "      <td>0.000000</td>\n",
       "      <td>0.000000</td>\n",
       "      <td>0.000000</td>\n",
       "      <td>1.000000</td>\n",
       "    </tr>\n",
       "    <tr>\n",
       "      <th>year_2014</th>\n",
       "      <td>15460.0</td>\n",
       "      <td>0.145796</td>\n",
       "      <td>0.352913</td>\n",
       "      <td>0.000000</td>\n",
       "      <td>0.000000</td>\n",
       "      <td>0.000000</td>\n",
       "      <td>0.000000</td>\n",
       "      <td>1.000000</td>\n",
       "    </tr>\n",
       "    <tr>\n",
       "      <th>year_2015</th>\n",
       "      <td>15460.0</td>\n",
       "      <td>0.072704</td>\n",
       "      <td>0.259658</td>\n",
       "      <td>0.000000</td>\n",
       "      <td>0.000000</td>\n",
       "      <td>0.000000</td>\n",
       "      <td>0.000000</td>\n",
       "      <td>1.000000</td>\n",
       "    </tr>\n",
       "    <tr>\n",
       "      <th>time_of_day_afternoon</th>\n",
       "      <td>15460.0</td>\n",
       "      <td>0.236352</td>\n",
       "      <td>0.424854</td>\n",
       "      <td>0.000000</td>\n",
       "      <td>0.000000</td>\n",
       "      <td>0.000000</td>\n",
       "      <td>0.000000</td>\n",
       "      <td>1.000000</td>\n",
       "    </tr>\n",
       "    <tr>\n",
       "      <th>time_of_day_evening</th>\n",
       "      <td>15460.0</td>\n",
       "      <td>0.231695</td>\n",
       "      <td>0.421929</td>\n",
       "      <td>0.000000</td>\n",
       "      <td>0.000000</td>\n",
       "      <td>0.000000</td>\n",
       "      <td>0.000000</td>\n",
       "      <td>1.000000</td>\n",
       "    </tr>\n",
       "    <tr>\n",
       "      <th>time_of_day_morning</th>\n",
       "      <td>15460.0</td>\n",
       "      <td>0.251876</td>\n",
       "      <td>0.434104</td>\n",
       "      <td>0.000000</td>\n",
       "      <td>0.000000</td>\n",
       "      <td>0.000000</td>\n",
       "      <td>1.000000</td>\n",
       "      <td>1.000000</td>\n",
       "    </tr>\n",
       "    <tr>\n",
       "      <th>time_of_day_night_AM</th>\n",
       "      <td>15460.0</td>\n",
       "      <td>0.117982</td>\n",
       "      <td>0.322597</td>\n",
       "      <td>0.000000</td>\n",
       "      <td>0.000000</td>\n",
       "      <td>0.000000</td>\n",
       "      <td>0.000000</td>\n",
       "      <td>1.000000</td>\n",
       "    </tr>\n",
       "    <tr>\n",
       "      <th>time_of_day_night_PM</th>\n",
       "      <td>15460.0</td>\n",
       "      <td>0.162096</td>\n",
       "      <td>0.368551</td>\n",
       "      <td>0.000000</td>\n",
       "      <td>0.000000</td>\n",
       "      <td>0.000000</td>\n",
       "      <td>0.000000</td>\n",
       "      <td>1.000000</td>\n",
       "    </tr>\n",
       "    <tr>\n",
       "      <th>season_fall</th>\n",
       "      <td>15460.0</td>\n",
       "      <td>0.232859</td>\n",
       "      <td>0.422667</td>\n",
       "      <td>0.000000</td>\n",
       "      <td>0.000000</td>\n",
       "      <td>0.000000</td>\n",
       "      <td>0.000000</td>\n",
       "      <td>1.000000</td>\n",
       "    </tr>\n",
       "    <tr>\n",
       "      <th>season_spring</th>\n",
       "      <td>15460.0</td>\n",
       "      <td>0.277684</td>\n",
       "      <td>0.447871</td>\n",
       "      <td>0.000000</td>\n",
       "      <td>0.000000</td>\n",
       "      <td>0.000000</td>\n",
       "      <td>1.000000</td>\n",
       "      <td>1.000000</td>\n",
       "    </tr>\n",
       "    <tr>\n",
       "      <th>season_summer</th>\n",
       "      <td>15460.0</td>\n",
       "      <td>0.236611</td>\n",
       "      <td>0.425015</td>\n",
       "      <td>0.000000</td>\n",
       "      <td>0.000000</td>\n",
       "      <td>0.000000</td>\n",
       "      <td>0.000000</td>\n",
       "      <td>1.000000</td>\n",
       "    </tr>\n",
       "    <tr>\n",
       "      <th>season_winter</th>\n",
       "      <td>15460.0</td>\n",
       "      <td>0.252846</td>\n",
       "      <td>0.434658</td>\n",
       "      <td>0.000000</td>\n",
       "      <td>0.000000</td>\n",
       "      <td>0.000000</td>\n",
       "      <td>1.000000</td>\n",
       "      <td>1.000000</td>\n",
       "    </tr>\n",
       "  </tbody>\n",
       "</table>\n",
       "</div>"
      ],
      "text/plain": [
       "                         count      mean       std       min       25%  \\\n",
       "fare_amount            15460.0  9.006415  4.063789  1.140000  6.000000   \n",
       "distance               15460.0  2.506335  1.651912  0.000111  1.260496   \n",
       "passenger_count_1      15460.0  0.706468  0.455395  0.000000  0.000000   \n",
       "passenger_count_2      15460.0  0.145925  0.353042  0.000000  0.000000   \n",
       "passenger_count_3      15460.0  0.042367  0.201432  0.000000  0.000000   \n",
       "passenger_count_4      15460.0  0.020505  0.141723  0.000000  0.000000   \n",
       "passenger_count_5      15460.0  0.065718  0.247796  0.000000  0.000000   \n",
       "passenger_count_6      15460.0  0.019017  0.136588  0.000000  0.000000   \n",
       "year_2009              15460.0  0.155045  0.361960  0.000000  0.000000   \n",
       "year_2010              15460.0  0.154592  0.361527  0.000000  0.000000   \n",
       "year_2011              15460.0  0.153622  0.360598  0.000000  0.000000   \n",
       "year_2012              15460.0  0.159444  0.366101  0.000000  0.000000   \n",
       "year_2013              15460.0  0.158797  0.365498  0.000000  0.000000   \n",
       "year_2014              15460.0  0.145796  0.352913  0.000000  0.000000   \n",
       "year_2015              15460.0  0.072704  0.259658  0.000000  0.000000   \n",
       "time_of_day_afternoon  15460.0  0.236352  0.424854  0.000000  0.000000   \n",
       "time_of_day_evening    15460.0  0.231695  0.421929  0.000000  0.000000   \n",
       "time_of_day_morning    15460.0  0.251876  0.434104  0.000000  0.000000   \n",
       "time_of_day_night_AM   15460.0  0.117982  0.322597  0.000000  0.000000   \n",
       "time_of_day_night_PM   15460.0  0.162096  0.368551  0.000000  0.000000   \n",
       "season_fall            15460.0  0.232859  0.422667  0.000000  0.000000   \n",
       "season_spring          15460.0  0.277684  0.447871  0.000000  0.000000   \n",
       "season_summer          15460.0  0.236611  0.425015  0.000000  0.000000   \n",
       "season_winter          15460.0  0.252846  0.434658  0.000000  0.000000   \n",
       "\n",
       "                            50%        75%        max  \n",
       "fare_amount            8.100000  11.000000  22.100000  \n",
       "distance               2.064891   3.347295   7.902598  \n",
       "passenger_count_1      1.000000   1.000000   1.000000  \n",
       "passenger_count_2      0.000000   0.000000   1.000000  \n",
       "passenger_count_3      0.000000   0.000000   1.000000  \n",
       "passenger_count_4      0.000000   0.000000   1.000000  \n",
       "passenger_count_5      0.000000   0.000000   1.000000  \n",
       "passenger_count_6      0.000000   0.000000   1.000000  \n",
       "year_2009              0.000000   0.000000   1.000000  \n",
       "year_2010              0.000000   0.000000   1.000000  \n",
       "year_2011              0.000000   0.000000   1.000000  \n",
       "year_2012              0.000000   0.000000   1.000000  \n",
       "year_2013              0.000000   0.000000   1.000000  \n",
       "year_2014              0.000000   0.000000   1.000000  \n",
       "year_2015              0.000000   0.000000   1.000000  \n",
       "time_of_day_afternoon  0.000000   0.000000   1.000000  \n",
       "time_of_day_evening    0.000000   0.000000   1.000000  \n",
       "time_of_day_morning    0.000000   1.000000   1.000000  \n",
       "time_of_day_night_AM   0.000000   0.000000   1.000000  \n",
       "time_of_day_night_PM   0.000000   0.000000   1.000000  \n",
       "season_fall            0.000000   0.000000   1.000000  \n",
       "season_spring          0.000000   1.000000   1.000000  \n",
       "season_summer          0.000000   0.000000   1.000000  \n",
       "season_winter          0.000000   1.000000   1.000000  "
      ]
     },
     "execution_count": 48,
     "metadata": {},
     "output_type": "execute_result"
    }
   ],
   "source": [
    "train_df.describe().T"
   ]
  },
  {
   "cell_type": "code",
   "execution_count": 49,
   "metadata": {
    "ExecuteTime": {
     "end_time": "2020-03-01T05:41:44.200228Z",
     "start_time": "2020-03-01T05:41:44.001340Z"
    }
   },
   "outputs": [
    {
     "data": {
      "text/html": [
       "<div>\n",
       "<style scoped>\n",
       "    .dataframe tbody tr th:only-of-type {\n",
       "        vertical-align: middle;\n",
       "    }\n",
       "\n",
       "    .dataframe tbody tr th {\n",
       "        vertical-align: top;\n",
       "    }\n",
       "\n",
       "    .dataframe thead th {\n",
       "        text-align: right;\n",
       "    }\n",
       "</style>\n",
       "<table border=\"1\" class=\"dataframe\">\n",
       "  <thead>\n",
       "    <tr style=\"text-align: right;\">\n",
       "      <th></th>\n",
       "      <th>count</th>\n",
       "      <th>mean</th>\n",
       "      <th>std</th>\n",
       "      <th>min</th>\n",
       "      <th>25%</th>\n",
       "      <th>50%</th>\n",
       "      <th>75%</th>\n",
       "      <th>max</th>\n",
       "    </tr>\n",
       "  </thead>\n",
       "  <tbody>\n",
       "    <tr>\n",
       "      <th>distance</th>\n",
       "      <td>9914.0</td>\n",
       "      <td>3.435371</td>\n",
       "      <td>3.972374</td>\n",
       "      <td>0.0</td>\n",
       "      <td>1.298277</td>\n",
       "      <td>2.217412</td>\n",
       "      <td>4.045302</td>\n",
       "      <td>99.99604</td>\n",
       "    </tr>\n",
       "    <tr>\n",
       "      <th>passenger_count_1</th>\n",
       "      <td>9914.0</td>\n",
       "      <td>0.697398</td>\n",
       "      <td>0.459408</td>\n",
       "      <td>0.0</td>\n",
       "      <td>0.000000</td>\n",
       "      <td>1.000000</td>\n",
       "      <td>1.000000</td>\n",
       "      <td>1.00000</td>\n",
       "    </tr>\n",
       "    <tr>\n",
       "      <th>passenger_count_2</th>\n",
       "      <td>9914.0</td>\n",
       "      <td>0.148679</td>\n",
       "      <td>0.355789</td>\n",
       "      <td>0.0</td>\n",
       "      <td>0.000000</td>\n",
       "      <td>0.000000</td>\n",
       "      <td>0.000000</td>\n",
       "      <td>1.00000</td>\n",
       "    </tr>\n",
       "    <tr>\n",
       "      <th>passenger_count_3</th>\n",
       "      <td>9914.0</td>\n",
       "      <td>0.045088</td>\n",
       "      <td>0.207507</td>\n",
       "      <td>0.0</td>\n",
       "      <td>0.000000</td>\n",
       "      <td>0.000000</td>\n",
       "      <td>0.000000</td>\n",
       "      <td>1.00000</td>\n",
       "    </tr>\n",
       "    <tr>\n",
       "      <th>passenger_count_4</th>\n",
       "      <td>9914.0</td>\n",
       "      <td>0.020779</td>\n",
       "      <td>0.142650</td>\n",
       "      <td>0.0</td>\n",
       "      <td>0.000000</td>\n",
       "      <td>0.000000</td>\n",
       "      <td>0.000000</td>\n",
       "      <td>1.00000</td>\n",
       "    </tr>\n",
       "    <tr>\n",
       "      <th>passenger_count_5</th>\n",
       "      <td>9914.0</td>\n",
       "      <td>0.070204</td>\n",
       "      <td>0.255503</td>\n",
       "      <td>0.0</td>\n",
       "      <td>0.000000</td>\n",
       "      <td>0.000000</td>\n",
       "      <td>0.000000</td>\n",
       "      <td>1.00000</td>\n",
       "    </tr>\n",
       "    <tr>\n",
       "      <th>passenger_count_6</th>\n",
       "      <td>9914.0</td>\n",
       "      <td>0.017854</td>\n",
       "      <td>0.132426</td>\n",
       "      <td>0.0</td>\n",
       "      <td>0.000000</td>\n",
       "      <td>0.000000</td>\n",
       "      <td>0.000000</td>\n",
       "      <td>1.00000</td>\n",
       "    </tr>\n",
       "    <tr>\n",
       "      <th>year_2009</th>\n",
       "      <td>9914.0</td>\n",
       "      <td>0.103087</td>\n",
       "      <td>0.304087</td>\n",
       "      <td>0.0</td>\n",
       "      <td>0.000000</td>\n",
       "      <td>0.000000</td>\n",
       "      <td>0.000000</td>\n",
       "      <td>1.00000</td>\n",
       "    </tr>\n",
       "    <tr>\n",
       "      <th>year_2010</th>\n",
       "      <td>9914.0</td>\n",
       "      <td>0.176821</td>\n",
       "      <td>0.381536</td>\n",
       "      <td>0.0</td>\n",
       "      <td>0.000000</td>\n",
       "      <td>0.000000</td>\n",
       "      <td>0.000000</td>\n",
       "      <td>1.00000</td>\n",
       "    </tr>\n",
       "    <tr>\n",
       "      <th>year_2011</th>\n",
       "      <td>9914.0</td>\n",
       "      <td>0.206778</td>\n",
       "      <td>0.405016</td>\n",
       "      <td>0.0</td>\n",
       "      <td>0.000000</td>\n",
       "      <td>0.000000</td>\n",
       "      <td>0.000000</td>\n",
       "      <td>1.00000</td>\n",
       "    </tr>\n",
       "    <tr>\n",
       "      <th>year_2012</th>\n",
       "      <td>9914.0</td>\n",
       "      <td>0.144543</td>\n",
       "      <td>0.351657</td>\n",
       "      <td>0.0</td>\n",
       "      <td>0.000000</td>\n",
       "      <td>0.000000</td>\n",
       "      <td>0.000000</td>\n",
       "      <td>1.00000</td>\n",
       "    </tr>\n",
       "    <tr>\n",
       "      <th>year_2013</th>\n",
       "      <td>9914.0</td>\n",
       "      <td>0.114485</td>\n",
       "      <td>0.318415</td>\n",
       "      <td>0.0</td>\n",
       "      <td>0.000000</td>\n",
       "      <td>0.000000</td>\n",
       "      <td>0.000000</td>\n",
       "      <td>1.00000</td>\n",
       "    </tr>\n",
       "    <tr>\n",
       "      <th>year_2014</th>\n",
       "      <td>9914.0</td>\n",
       "      <td>0.191850</td>\n",
       "      <td>0.393776</td>\n",
       "      <td>0.0</td>\n",
       "      <td>0.000000</td>\n",
       "      <td>0.000000</td>\n",
       "      <td>0.000000</td>\n",
       "      <td>1.00000</td>\n",
       "    </tr>\n",
       "    <tr>\n",
       "      <th>year_2015</th>\n",
       "      <td>9914.0</td>\n",
       "      <td>0.062437</td>\n",
       "      <td>0.241960</td>\n",
       "      <td>0.0</td>\n",
       "      <td>0.000000</td>\n",
       "      <td>0.000000</td>\n",
       "      <td>0.000000</td>\n",
       "      <td>1.00000</td>\n",
       "    </tr>\n",
       "    <tr>\n",
       "      <th>time_of_day_afternoon</th>\n",
       "      <td>9914.0</td>\n",
       "      <td>0.242385</td>\n",
       "      <td>0.428547</td>\n",
       "      <td>0.0</td>\n",
       "      <td>0.000000</td>\n",
       "      <td>0.000000</td>\n",
       "      <td>0.000000</td>\n",
       "      <td>1.00000</td>\n",
       "    </tr>\n",
       "    <tr>\n",
       "      <th>time_of_day_evening</th>\n",
       "      <td>9914.0</td>\n",
       "      <td>0.185193</td>\n",
       "      <td>0.388473</td>\n",
       "      <td>0.0</td>\n",
       "      <td>0.000000</td>\n",
       "      <td>0.000000</td>\n",
       "      <td>0.000000</td>\n",
       "      <td>1.00000</td>\n",
       "    </tr>\n",
       "    <tr>\n",
       "      <th>time_of_day_morning</th>\n",
       "      <td>9914.0</td>\n",
       "      <td>0.220496</td>\n",
       "      <td>0.414602</td>\n",
       "      <td>0.0</td>\n",
       "      <td>0.000000</td>\n",
       "      <td>0.000000</td>\n",
       "      <td>0.000000</td>\n",
       "      <td>1.00000</td>\n",
       "    </tr>\n",
       "    <tr>\n",
       "      <th>time_of_day_night_AM</th>\n",
       "      <td>9914.0</td>\n",
       "      <td>0.139701</td>\n",
       "      <td>0.346694</td>\n",
       "      <td>0.0</td>\n",
       "      <td>0.000000</td>\n",
       "      <td>0.000000</td>\n",
       "      <td>0.000000</td>\n",
       "      <td>1.00000</td>\n",
       "    </tr>\n",
       "    <tr>\n",
       "      <th>time_of_day_night_PM</th>\n",
       "      <td>9914.0</td>\n",
       "      <td>0.212225</td>\n",
       "      <td>0.408904</td>\n",
       "      <td>0.0</td>\n",
       "      <td>0.000000</td>\n",
       "      <td>0.000000</td>\n",
       "      <td>0.000000</td>\n",
       "      <td>1.00000</td>\n",
       "    </tr>\n",
       "    <tr>\n",
       "      <th>season_fall</th>\n",
       "      <td>9914.0</td>\n",
       "      <td>0.281622</td>\n",
       "      <td>0.449813</td>\n",
       "      <td>0.0</td>\n",
       "      <td>0.000000</td>\n",
       "      <td>0.000000</td>\n",
       "      <td>1.000000</td>\n",
       "      <td>1.00000</td>\n",
       "    </tr>\n",
       "    <tr>\n",
       "      <th>season_spring</th>\n",
       "      <td>9914.0</td>\n",
       "      <td>0.210914</td>\n",
       "      <td>0.407978</td>\n",
       "      <td>0.0</td>\n",
       "      <td>0.000000</td>\n",
       "      <td>0.000000</td>\n",
       "      <td>0.000000</td>\n",
       "      <td>1.00000</td>\n",
       "    </tr>\n",
       "    <tr>\n",
       "      <th>season_summer</th>\n",
       "      <td>9914.0</td>\n",
       "      <td>0.293020</td>\n",
       "      <td>0.455170</td>\n",
       "      <td>0.0</td>\n",
       "      <td>0.000000</td>\n",
       "      <td>0.000000</td>\n",
       "      <td>1.000000</td>\n",
       "      <td>1.00000</td>\n",
       "    </tr>\n",
       "    <tr>\n",
       "      <th>season_winter</th>\n",
       "      <td>9914.0</td>\n",
       "      <td>0.214444</td>\n",
       "      <td>0.410457</td>\n",
       "      <td>0.0</td>\n",
       "      <td>0.000000</td>\n",
       "      <td>0.000000</td>\n",
       "      <td>0.000000</td>\n",
       "      <td>1.00000</td>\n",
       "    </tr>\n",
       "  </tbody>\n",
       "</table>\n",
       "</div>"
      ],
      "text/plain": [
       "                        count      mean       std  min       25%       50%  \\\n",
       "distance               9914.0  3.435371  3.972374  0.0  1.298277  2.217412   \n",
       "passenger_count_1      9914.0  0.697398  0.459408  0.0  0.000000  1.000000   \n",
       "passenger_count_2      9914.0  0.148679  0.355789  0.0  0.000000  0.000000   \n",
       "passenger_count_3      9914.0  0.045088  0.207507  0.0  0.000000  0.000000   \n",
       "passenger_count_4      9914.0  0.020779  0.142650  0.0  0.000000  0.000000   \n",
       "passenger_count_5      9914.0  0.070204  0.255503  0.0  0.000000  0.000000   \n",
       "passenger_count_6      9914.0  0.017854  0.132426  0.0  0.000000  0.000000   \n",
       "year_2009              9914.0  0.103087  0.304087  0.0  0.000000  0.000000   \n",
       "year_2010              9914.0  0.176821  0.381536  0.0  0.000000  0.000000   \n",
       "year_2011              9914.0  0.206778  0.405016  0.0  0.000000  0.000000   \n",
       "year_2012              9914.0  0.144543  0.351657  0.0  0.000000  0.000000   \n",
       "year_2013              9914.0  0.114485  0.318415  0.0  0.000000  0.000000   \n",
       "year_2014              9914.0  0.191850  0.393776  0.0  0.000000  0.000000   \n",
       "year_2015              9914.0  0.062437  0.241960  0.0  0.000000  0.000000   \n",
       "time_of_day_afternoon  9914.0  0.242385  0.428547  0.0  0.000000  0.000000   \n",
       "time_of_day_evening    9914.0  0.185193  0.388473  0.0  0.000000  0.000000   \n",
       "time_of_day_morning    9914.0  0.220496  0.414602  0.0  0.000000  0.000000   \n",
       "time_of_day_night_AM   9914.0  0.139701  0.346694  0.0  0.000000  0.000000   \n",
       "time_of_day_night_PM   9914.0  0.212225  0.408904  0.0  0.000000  0.000000   \n",
       "season_fall            9914.0  0.281622  0.449813  0.0  0.000000  0.000000   \n",
       "season_spring          9914.0  0.210914  0.407978  0.0  0.000000  0.000000   \n",
       "season_summer          9914.0  0.293020  0.455170  0.0  0.000000  0.000000   \n",
       "season_winter          9914.0  0.214444  0.410457  0.0  0.000000  0.000000   \n",
       "\n",
       "                            75%       max  \n",
       "distance               4.045302  99.99604  \n",
       "passenger_count_1      1.000000   1.00000  \n",
       "passenger_count_2      0.000000   1.00000  \n",
       "passenger_count_3      0.000000   1.00000  \n",
       "passenger_count_4      0.000000   1.00000  \n",
       "passenger_count_5      0.000000   1.00000  \n",
       "passenger_count_6      0.000000   1.00000  \n",
       "year_2009              0.000000   1.00000  \n",
       "year_2010              0.000000   1.00000  \n",
       "year_2011              0.000000   1.00000  \n",
       "year_2012              0.000000   1.00000  \n",
       "year_2013              0.000000   1.00000  \n",
       "year_2014              0.000000   1.00000  \n",
       "year_2015              0.000000   1.00000  \n",
       "time_of_day_afternoon  0.000000   1.00000  \n",
       "time_of_day_evening    0.000000   1.00000  \n",
       "time_of_day_morning    0.000000   1.00000  \n",
       "time_of_day_night_AM   0.000000   1.00000  \n",
       "time_of_day_night_PM   0.000000   1.00000  \n",
       "season_fall            1.000000   1.00000  \n",
       "season_spring          0.000000   1.00000  \n",
       "season_summer          1.000000   1.00000  \n",
       "season_winter          0.000000   1.00000  "
      ]
     },
     "execution_count": 49,
     "metadata": {},
     "output_type": "execute_result"
    }
   ],
   "source": [
    "test_df.describe().T"
   ]
  },
  {
   "cell_type": "code",
   "execution_count": 50,
   "metadata": {
    "ExecuteTime": {
     "end_time": "2020-03-01T05:41:44.216215Z",
     "start_time": "2020-03-01T05:41:44.203225Z"
    }
   },
   "outputs": [],
   "source": [
    "#Scale the distance column\n",
    "def scale_distance(distance,max = 1,min = 0):\n",
    "    scale = (max -min) / (distance.max(axis=0) - distance.min(axis=0))\n",
    "    distance_scaled = scale*distance + min - distance.min(axis=0)*scale\n",
    "    return distance_scaled"
   ]
  },
  {
   "cell_type": "code",
   "execution_count": 51,
   "metadata": {
    "ExecuteTime": {
     "end_time": "2020-03-01T05:41:44.328153Z",
     "start_time": "2020-03-01T05:41:44.219215Z"
    }
   },
   "outputs": [],
   "source": [
    "train_df.distance = scale_distance(train_df['distance'])\n",
    "test_df.distance = scale_distance(test_df['distance'])"
   ]
  },
  {
   "cell_type": "markdown",
   "metadata": {},
   "source": [
    "# Model Selection"
   ]
  },
  {
   "cell_type": "code",
   "execution_count": 52,
   "metadata": {
    "ExecuteTime": {
     "end_time": "2020-03-01T05:41:48.432805Z",
     "start_time": "2020-03-01T05:41:44.333152Z"
    }
   },
   "outputs": [],
   "source": [
    "from sklearn.model_selection import train_test_split\n",
    "from sklearn.ensemble import RandomForestRegressor\n",
    "from sklearn.metrics import mean_absolute_error,mean_squared_error\n",
    "from sklearn.model_selection import GridSearchCV\n",
    "from sklearn import linear_model\n",
    "from sklearn.tree import DecisionTreeRegressor\n",
    "import xgboost as xgb"
   ]
  },
  {
   "cell_type": "code",
   "execution_count": 53,
   "metadata": {
    "ExecuteTime": {
     "end_time": "2020-03-01T05:41:48.463787Z",
     "start_time": "2020-03-01T05:41:48.435802Z"
    }
   },
   "outputs": [],
   "source": [
    "#define X and Y, and split them in train and validation dataset\n",
    "X = train_df[train_df.columns[1:]]\n",
    "y = train_df[train_df.columns[0]]\n",
    "train_x,test_x, train_y, test_y = train_test_split(X,y,test_size = 0.2)"
   ]
  },
  {
   "cell_type": "markdown",
   "metadata": {},
   "source": [
    "### Linear Regression"
   ]
  },
  {
   "cell_type": "code",
   "execution_count": 54,
   "metadata": {
    "ExecuteTime": {
     "end_time": "2020-03-01T05:41:53.617838Z",
     "start_time": "2020-03-01T05:41:48.468784Z"
    }
   },
   "outputs": [
    {
     "data": {
      "text/plain": [
       "GridSearchCV(cv=None, error_score=nan,\n",
       "             estimator=LinearRegression(copy_X=True, fit_intercept=True,\n",
       "                                        n_jobs=None, normalize=False),\n",
       "             iid='deprecated', n_jobs=-1, param_grid={},\n",
       "             pre_dispatch='2*n_jobs', refit=True, return_train_score=False,\n",
       "             scoring=None, verbose=0)"
      ]
     },
     "execution_count": 54,
     "metadata": {},
     "output_type": "execute_result"
    }
   ],
   "source": [
    "#Run gridSearchCv to find the best parameters\n",
    "params = { }\n",
    "model_lr = linear_model.LinearRegression()\n",
    "grid_cv = GridSearchCV(model_lr,params,n_jobs=-1)\n",
    "grid_cv.fit(train_x,train_y)"
   ]
  },
  {
   "cell_type": "code",
   "execution_count": 55,
   "metadata": {
    "ExecuteTime": {
     "end_time": "2020-03-01T05:41:53.632830Z",
     "start_time": "2020-03-01T05:41:53.621836Z"
    }
   },
   "outputs": [
    {
     "data": {
      "text/plain": [
       "{}"
      ]
     },
     "execution_count": 55,
     "metadata": {},
     "output_type": "execute_result"
    }
   ],
   "source": [
    "grid_cv.best_params_"
   ]
  },
  {
   "cell_type": "code",
   "execution_count": 56,
   "metadata": {
    "ExecuteTime": {
     "end_time": "2020-03-01T05:41:53.821722Z",
     "start_time": "2020-03-01T05:41:53.637827Z"
    }
   },
   "outputs": [
    {
     "name": "stdout",
     "output_type": "stream",
     "text": [
      "1.5721242992669253\n",
      "5.001266793011283\n"
     ]
    }
   ],
   "source": [
    "model_lr = linear_model.LinearRegression(fit_intercept=True,normalize=True,n_jobs=-1)\n",
    "model_lr.fit(train_x,train_y)\n",
    "predicts = model_lr.predict(test_x)\n",
    "print(mean_absolute_error(predicts,test_y))\n",
    "print(mean_squared_error(predicts,test_y))"
   ]
  },
  {
   "cell_type": "markdown",
   "metadata": {},
   "source": [
    "### Decision Tree"
   ]
  },
  {
   "cell_type": "code",
   "execution_count": 57,
   "metadata": {
    "ExecuteTime": {
     "end_time": "2020-03-01T05:41:53.901674Z",
     "start_time": "2020-03-01T05:41:53.825721Z"
    }
   },
   "outputs": [],
   "source": [
    "params = {'criterion':[\"mse\", \"friedman_mse\", \"mae\"],\n",
    "         'min_samples_leaf':[1,10,50,100,500,1000],\n",
    "         'max_features':['auto','sqrt','log2']\n",
    "         }\n",
    "model = DecisionTreeRegressor(random_state=47)\n",
    "grid_cv = GridSearchCV(model,params,n_jobs=-1)\n",
    "# grid_cv.fit(train_x,train_y)"
   ]
  },
  {
   "cell_type": "code",
   "execution_count": 58,
   "metadata": {
    "ExecuteTime": {
     "end_time": "2020-03-01T05:41:54.027602Z",
     "start_time": "2020-03-01T05:41:53.905673Z"
    }
   },
   "outputs": [],
   "source": [
    "# grid_cv.best_params_"
   ]
  },
  {
   "cell_type": "code",
   "execution_count": 59,
   "metadata": {
    "ExecuteTime": {
     "end_time": "2020-03-01T05:41:54.232485Z",
     "start_time": "2020-03-01T05:41:54.031603Z"
    }
   },
   "outputs": [
    {
     "name": "stdout",
     "output_type": "stream",
     "text": [
      "1.7129133001330132\n",
      "5.963062667943274\n"
     ]
    }
   ],
   "source": [
    "model = DecisionTreeRegressor(criterion = 'mse',max_features='auto',min_samples_split=50)\n",
    "model.fit(train_x,train_y)\n",
    "predicts = model.predict(test_x)\n",
    "print(mean_absolute_error(predicts,test_y))\n",
    "print(mean_squared_error(predicts,test_y))"
   ]
  },
  {
   "cell_type": "markdown",
   "metadata": {},
   "source": [
    "### Random Forest"
   ]
  },
  {
   "cell_type": "code",
   "execution_count": null,
   "metadata": {
    "ExecuteTime": {
     "end_time": "2020-02-22T05:09:27.221162Z",
     "start_time": "2020-02-22T05:09:27.199173Z"
    }
   },
   "outputs": [],
   "source": []
  },
  {
   "cell_type": "code",
   "execution_count": 60,
   "metadata": {
    "ExecuteTime": {
     "end_time": "2020-03-01T05:41:54.295451Z",
     "start_time": "2020-03-01T05:41:54.236484Z"
    }
   },
   "outputs": [],
   "source": [
    "params = {'max_features' : ['auto',None,'sqrt',0.2,0.5,0.8],\n",
    "         'min_samples_leaf' : [1,50,100,500,1000],\n",
    "         }\n",
    "model = RandomForestRegressor(n_jobs=-1,n_estimators= 500,random_state=47)\n",
    "grid_cv = GridSearchCV(model,params)\n",
    "# grid_cv.fit(X,y)"
   ]
  },
  {
   "cell_type": "code",
   "execution_count": 61,
   "metadata": {
    "ExecuteTime": {
     "end_time": "2020-03-01T05:41:54.532315Z",
     "start_time": "2020-03-01T05:41:54.300448Z"
    }
   },
   "outputs": [],
   "source": [
    "# grid_cv.best_params_"
   ]
  },
  {
   "cell_type": "code",
   "execution_count": 62,
   "metadata": {
    "ExecuteTime": {
     "end_time": "2020-03-01T05:41:58.978772Z",
     "start_time": "2020-03-01T05:41:54.536313Z"
    }
   },
   "outputs": [
    {
     "name": "stdout",
     "output_type": "stream",
     "text": [
      "1.5732288836197323\n",
      "4.886465728299743\n"
     ]
    }
   ],
   "source": [
    "model = RandomForestRegressor(n_jobs=-1,n_estimators= 500,max_features=0.5,min_samples_leaf=50,random_state=47)\n",
    "model.fit(train_x,train_y)\n",
    "predicts = model.predict(test_x)\n",
    "print(mean_absolute_error(predicts,test_y))\n",
    "print(mean_squared_error(predicts,test_y))"
   ]
  },
  {
   "cell_type": "markdown",
   "metadata": {},
   "source": [
    "### XGBOOST "
   ]
  },
  {
   "cell_type": "code",
   "execution_count": 63,
   "metadata": {
    "ExecuteTime": {
     "end_time": "2020-03-01T05:41:59.013752Z",
     "start_time": "2020-03-01T05:41:58.990765Z"
    }
   },
   "outputs": [],
   "source": [
    "params = {}\n",
    "model = xgb.XGBRegressor(objective ='reg:linear',n_estimators=100)\n",
    "#                           , colsample_bytree = 0.3, learning_rate = 0.1,max_depth = 5, alpha = 10, n_estimators = 10)\n",
    "grid_cv = GridSearchCV(model,params,n_jobs=-1)"
   ]
  },
  {
   "cell_type": "code",
   "execution_count": 64,
   "metadata": {
    "ExecuteTime": {
     "end_time": "2020-03-01T05:41:59.120692Z",
     "start_time": "2020-03-01T05:41:59.017752Z"
    }
   },
   "outputs": [],
   "source": [
    "# grid_cv.fit(train_x.drop(['day'],axis=1),train_y)"
   ]
  },
  {
   "cell_type": "code",
   "execution_count": 65,
   "metadata": {
    "ExecuteTime": {
     "end_time": "2020-03-01T05:41:59.200645Z",
     "start_time": "2020-03-01T05:41:59.124690Z"
    }
   },
   "outputs": [],
   "source": [
    "# grid_cv.best_params_"
   ]
  },
  {
   "cell_type": "code",
   "execution_count": 66,
   "metadata": {
    "ExecuteTime": {
     "end_time": "2020-03-01T05:42:00.700785Z",
     "start_time": "2020-03-01T05:41:59.204642Z"
    }
   },
   "outputs": [
    {
     "name": "stdout",
     "output_type": "stream",
     "text": [
      "[11:11:59] WARNING: C:/Users/Administrator/workspace/xgboost-win64_release_1.0.0/src/objective/regression_obj.cu:167: reg:linear is now deprecated in favor of reg:squarederror.\n",
      "1.5556842534086632\n",
      "4.822351194067176\n"
     ]
    }
   ],
   "source": [
    "model = xgb.XGBRegressor(objective ='reg:linear',n_estimators=100,colsample_bytree = 0.3, learning_rate = 0.1,max_depth = 5, alpha = 10)\n",
    "model.fit(train_x.drop(['day'],axis=1),train_y)\n",
    "predicts = model.predict(test_x.drop(['day'],axis=1))\n",
    "print(mean_absolute_error(predicts,test_y))\n",
    "print(mean_squared_error(predicts,test_y))"
   ]
  },
  {
   "cell_type": "markdown",
   "metadata": {},
   "source": [
    "Run the model on the whole dataset"
   ]
  },
  {
   "cell_type": "code",
   "execution_count": 67,
   "metadata": {
    "ExecuteTime": {
     "end_time": "2020-03-01T05:42:02.553725Z",
     "start_time": "2020-03-01T05:42:00.704784Z"
    }
   },
   "outputs": [
    {
     "name": "stdout",
     "output_type": "stream",
     "text": [
      "[11:12:00] WARNING: C:/Users/Administrator/workspace/xgboost-win64_release_1.0.0/src/objective/regression_obj.cu:167: reg:linear is now deprecated in favor of reg:squarederror.\n"
     ]
    }
   ],
   "source": [
    "final_model = xgb.XGBRegressor(objective ='reg:linear',n_estimators=100,colsample_bytree = 0.3, learning_rate = 0.1,max_depth = 5, alpha = 10)\n",
    "final_model.fit(X.drop(['day'],axis=1),y)\n",
    "predicts = final_model.predict(test_df.drop(['day'],axis=1))"
   ]
  },
  {
   "cell_type": "code",
   "execution_count": 68,
   "metadata": {
    "ExecuteTime": {
     "end_time": "2020-03-01T05:42:02.601699Z",
     "start_time": "2020-03-01T05:42:02.583709Z"
    }
   },
   "outputs": [],
   "source": [
    "test_df['predicts'] = predicts"
   ]
  },
  {
   "cell_type": "code",
   "execution_count": 69,
   "metadata": {
    "ExecuteTime": {
     "end_time": "2020-03-01T05:42:03.264340Z",
     "start_time": "2020-03-01T05:42:02.613696Z"
    }
   },
   "outputs": [],
   "source": [
    "test_df.to_csv('XGBoost_predictions.csv')"
   ]
  },
  {
   "cell_type": "code",
   "execution_count": 81,
   "metadata": {
    "ExecuteTime": {
     "end_time": "2020-03-01T09:45:49.716270Z",
     "start_time": "2020-03-01T09:45:49.698282Z"
    }
   },
   "outputs": [],
   "source": [
    "a = 10\n",
    "b = a\n",
    "a = a/10"
   ]
  },
  {
   "cell_type": "code",
   "execution_count": 82,
   "metadata": {
    "ExecuteTime": {
     "end_time": "2020-03-01T09:45:54.936002Z",
     "start_time": "2020-03-01T09:45:54.915999Z"
    }
   },
   "outputs": [
    {
     "data": {
      "text/plain": [
       "10"
      ]
     },
     "execution_count": 82,
     "metadata": {},
     "output_type": "execute_result"
    }
   ],
   "source": [
    "b"
   ]
  },
  {
   "cell_type": "code",
   "execution_count": null,
   "metadata": {},
   "outputs": [],
   "source": []
  }
 ],
 "metadata": {
  "hide_input": false,
  "kernelspec": {
   "display_name": "Python 3",
   "language": "python",
   "name": "python3"
  },
  "language_info": {
   "codemirror_mode": {
    "name": "ipython",
    "version": 3
   },
   "file_extension": ".py",
   "mimetype": "text/x-python",
   "name": "python",
   "nbconvert_exporter": "python",
   "pygments_lexer": "ipython3",
   "version": "3.7.3"
  },
  "varInspector": {
   "cols": {
    "lenName": 16,
    "lenType": 16,
    "lenVar": 40
   },
   "kernels_config": {
    "python": {
     "delete_cmd_postfix": "",
     "delete_cmd_prefix": "del ",
     "library": "var_list.py",
     "varRefreshCmd": "print(var_dic_list())"
    },
    "r": {
     "delete_cmd_postfix": ") ",
     "delete_cmd_prefix": "rm(",
     "library": "var_list.r",
     "varRefreshCmd": "cat(var_dic_list()) "
    }
   },
   "types_to_exclude": [
    "module",
    "function",
    "builtin_function_or_method",
    "instance",
    "_Feature"
   ],
   "window_display": false
  }
 },
 "nbformat": 4,
 "nbformat_minor": 2
}
